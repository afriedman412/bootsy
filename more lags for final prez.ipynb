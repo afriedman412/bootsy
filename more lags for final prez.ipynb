{
 "cells": [
  {
   "cell_type": "code",
   "execution_count": 1,
   "metadata": {
    "collapsed": true
   },
   "outputs": [],
   "source": [
    "import pandas as pd\n",
    "import numpy as np\n",
    "import billboard\n",
    "import datetime as datetime\n",
    "import warnings\n",
    "warnings.simplefilter(\"ignore\")\n",
    "\n",
    "from sklearn.model_selection import train_test_split\n",
    "from xgboost import XGBRegressor\n",
    "from sklearn.preprocessing import StandardScaler\n",
    "from sklearn.pipeline import Pipeline\n",
    "from sklearn.metrics import confusion_matrix\n",
    "from imblearn.over_sampling import SMOTE\n",
    "\n",
    "from xgboost import XGBClassifier\n",
    "from sklearn.neighbors import KNeighborsClassifier\n",
    "from sklearn.linear_model import SGDClassifier\n",
    "from sklearn.ensemble import RandomForestClassifier\n",
    "\n",
    "import seaborn as sns\n",
    "%matplotlib inline"
   ]
  },
  {
   "cell_type": "code",
   "execution_count": 2,
   "metadata": {
    "collapsed": true
   },
   "outputs": [],
   "source": [
    "%run all_code_more_lags.py"
   ]
  },
  {
   "cell_type": "code",
   "execution_count": 3,
   "metadata": {
    "collapsed": true
   },
   "outputs": [],
   "source": [
    "df = pd.read_csv('data_safe/df_at_for_models_714.csv').drop('Unnamed: 0', axis=1)"
   ]
  },
  {
   "cell_type": "code",
   "execution_count": 42,
   "metadata": {},
   "outputs": [
    {
     "data": {
      "text/plain": [
       "Index(['artist', 'chart_date', 'debut', 'delta_1', 'delta_2', 'key', 'lag_1',\n",
       "       'lag_2', 'move', 'move_2', 'move_2n', 'next_delta', 'next_pos', 'peak',\n",
       "       'position', 'title', 'total_weeks', 'weeks_on_chart', 'year',\n",
       "       'weeks_lag', 'peak_lag'],\n",
       "      dtype='object')"
      ]
     },
     "execution_count": 42,
     "metadata": {},
     "output_type": "execute_result"
    }
   ],
   "source": [
    "df.columns"
   ]
  },
  {
   "cell_type": "code",
   "execution_count": 4,
   "metadata": {
    "collapsed": true
   },
   "outputs": [],
   "source": [
    "df['lag_3'] = df['position'].shift(3)\n",
    "df['lag_4'] = df['position'].shift(4)\n",
    "df['lag_5'] = df['position'].shift(5)"
   ]
  },
  {
   "cell_type": "code",
   "execution_count": 5,
   "metadata": {
    "collapsed": true
   },
   "outputs": [],
   "source": [
    "df.fillna(51, inplace=True)"
   ]
  },
  {
   "cell_type": "code",
   "execution_count": 6,
   "metadata": {
    "collapsed": true
   },
   "outputs": [],
   "source": [
    "df['delta_3'] = df['lag_3'] - df['lag_2']\n",
    "df['delta_4'] = df['lag_4'] - df['lag_3']\n",
    "df['delta_5'] = df['lag_5'] - df['lag_4']"
   ]
  },
  {
   "cell_type": "code",
   "execution_count": 7,
   "metadata": {},
   "outputs": [
    {
     "data": {
      "text/html": [
       "<div>\n",
       "<style>\n",
       "    .dataframe thead tr:only-child th {\n",
       "        text-align: right;\n",
       "    }\n",
       "\n",
       "    .dataframe thead th {\n",
       "        text-align: left;\n",
       "    }\n",
       "\n",
       "    .dataframe tbody tr th {\n",
       "        vertical-align: top;\n",
       "    }\n",
       "</style>\n",
       "<table border=\"1\" class=\"dataframe\">\n",
       "  <thead>\n",
       "    <tr style=\"text-align: right;\">\n",
       "      <th></th>\n",
       "      <th>count</th>\n",
       "      <th>mean</th>\n",
       "      <th>std</th>\n",
       "      <th>min</th>\n",
       "      <th>25%</th>\n",
       "      <th>50%</th>\n",
       "      <th>75%</th>\n",
       "      <th>max</th>\n",
       "    </tr>\n",
       "  </thead>\n",
       "  <tbody>\n",
       "    <tr>\n",
       "      <th>delta_1</th>\n",
       "      <td>28673.0</td>\n",
       "      <td>-0.486207</td>\n",
       "      <td>6.155924</td>\n",
       "      <td>-50.0</td>\n",
       "      <td>-3.0</td>\n",
       "      <td>0.0</td>\n",
       "      <td>2.0</td>\n",
       "      <td>33.0</td>\n",
       "    </tr>\n",
       "    <tr>\n",
       "      <th>delta_2</th>\n",
       "      <td>28673.0</td>\n",
       "      <td>-0.770760</td>\n",
       "      <td>5.844371</td>\n",
       "      <td>-50.0</td>\n",
       "      <td>-2.0</td>\n",
       "      <td>0.0</td>\n",
       "      <td>1.0</td>\n",
       "      <td>33.0</td>\n",
       "    </tr>\n",
       "    <tr>\n",
       "      <th>lag_1</th>\n",
       "      <td>28673.0</td>\n",
       "      <td>25.986712</td>\n",
       "      <td>15.084231</td>\n",
       "      <td>1.0</td>\n",
       "      <td>13.0</td>\n",
       "      <td>26.0</td>\n",
       "      <td>39.0</td>\n",
       "      <td>63.0</td>\n",
       "    </tr>\n",
       "    <tr>\n",
       "      <th>lag_2</th>\n",
       "      <td>28673.0</td>\n",
       "      <td>26.757472</td>\n",
       "      <td>15.899286</td>\n",
       "      <td>1.0</td>\n",
       "      <td>13.0</td>\n",
       "      <td>26.0</td>\n",
       "      <td>40.0</td>\n",
       "      <td>63.0</td>\n",
       "    </tr>\n",
       "    <tr>\n",
       "      <th>move</th>\n",
       "      <td>28673.0</td>\n",
       "      <td>0.743382</td>\n",
       "      <td>0.436774</td>\n",
       "      <td>0.0</td>\n",
       "      <td>0.0</td>\n",
       "      <td>1.0</td>\n",
       "      <td>1.0</td>\n",
       "      <td>1.0</td>\n",
       "    </tr>\n",
       "    <tr>\n",
       "      <th>move_2n</th>\n",
       "      <td>28673.0</td>\n",
       "      <td>0.057859</td>\n",
       "      <td>0.860268</td>\n",
       "      <td>-1.0</td>\n",
       "      <td>-1.0</td>\n",
       "      <td>0.0</td>\n",
       "      <td>1.0</td>\n",
       "      <td>1.0</td>\n",
       "    </tr>\n",
       "    <tr>\n",
       "      <th>next_delta</th>\n",
       "      <td>28673.0</td>\n",
       "      <td>0.633139</td>\n",
       "      <td>5.682187</td>\n",
       "      <td>-36.0</td>\n",
       "      <td>-2.0</td>\n",
       "      <td>0.0</td>\n",
       "      <td>3.0</td>\n",
       "      <td>35.0</td>\n",
       "    </tr>\n",
       "    <tr>\n",
       "      <th>next_pos</th>\n",
       "      <td>28673.0</td>\n",
       "      <td>26.133645</td>\n",
       "      <td>15.147758</td>\n",
       "      <td>1.0</td>\n",
       "      <td>13.0</td>\n",
       "      <td>26.0</td>\n",
       "      <td>39.0</td>\n",
       "      <td>74.0</td>\n",
       "    </tr>\n",
       "    <tr>\n",
       "      <th>peak</th>\n",
       "      <td>28673.0</td>\n",
       "      <td>13.601088</td>\n",
       "      <td>12.161194</td>\n",
       "      <td>1.0</td>\n",
       "      <td>4.0</td>\n",
       "      <td>10.0</td>\n",
       "      <td>21.0</td>\n",
       "      <td>50.0</td>\n",
       "    </tr>\n",
       "    <tr>\n",
       "      <th>position</th>\n",
       "      <td>28673.0</td>\n",
       "      <td>25.500506</td>\n",
       "      <td>14.435957</td>\n",
       "      <td>1.0</td>\n",
       "      <td>13.0</td>\n",
       "      <td>26.0</td>\n",
       "      <td>38.0</td>\n",
       "      <td>50.0</td>\n",
       "    </tr>\n",
       "    <tr>\n",
       "      <th>total_weeks</th>\n",
       "      <td>28673.0</td>\n",
       "      <td>22.587940</td>\n",
       "      <td>14.632465</td>\n",
       "      <td>0.0</td>\n",
       "      <td>12.0</td>\n",
       "      <td>21.0</td>\n",
       "      <td>30.0</td>\n",
       "      <td>96.0</td>\n",
       "    </tr>\n",
       "    <tr>\n",
       "      <th>weeks_on_chart</th>\n",
       "      <td>28673.0</td>\n",
       "      <td>11.120880</td>\n",
       "      <td>10.521643</td>\n",
       "      <td>0.0</td>\n",
       "      <td>3.0</td>\n",
       "      <td>8.0</td>\n",
       "      <td>16.0</td>\n",
       "      <td>96.0</td>\n",
       "    </tr>\n",
       "    <tr>\n",
       "      <th>year</th>\n",
       "      <td>28673.0</td>\n",
       "      <td>1979.999023</td>\n",
       "      <td>3.163105</td>\n",
       "      <td>1975.0</td>\n",
       "      <td>1977.0</td>\n",
       "      <td>1980.0</td>\n",
       "      <td>1983.0</td>\n",
       "      <td>1985.0</td>\n",
       "    </tr>\n",
       "    <tr>\n",
       "      <th>weeks_lag</th>\n",
       "      <td>28673.0</td>\n",
       "      <td>12.516688</td>\n",
       "      <td>13.218109</td>\n",
       "      <td>0.0</td>\n",
       "      <td>0.0</td>\n",
       "      <td>9.0</td>\n",
       "      <td>22.0</td>\n",
       "      <td>96.0</td>\n",
       "    </tr>\n",
       "    <tr>\n",
       "      <th>peak_lag</th>\n",
       "      <td>28673.0</td>\n",
       "      <td>27.306072</td>\n",
       "      <td>19.995830</td>\n",
       "      <td>1.0</td>\n",
       "      <td>7.0</td>\n",
       "      <td>25.0</td>\n",
       "      <td>51.0</td>\n",
       "      <td>51.0</td>\n",
       "    </tr>\n",
       "    <tr>\n",
       "      <th>lag_3</th>\n",
       "      <td>28673.0</td>\n",
       "      <td>25.501796</td>\n",
       "      <td>14.437563</td>\n",
       "      <td>1.0</td>\n",
       "      <td>13.0</td>\n",
       "      <td>26.0</td>\n",
       "      <td>38.0</td>\n",
       "      <td>51.0</td>\n",
       "    </tr>\n",
       "    <tr>\n",
       "      <th>lag_4</th>\n",
       "      <td>28673.0</td>\n",
       "      <td>25.502005</td>\n",
       "      <td>14.437889</td>\n",
       "      <td>1.0</td>\n",
       "      <td>13.0</td>\n",
       "      <td>26.0</td>\n",
       "      <td>38.0</td>\n",
       "      <td>51.0</td>\n",
       "    </tr>\n",
       "    <tr>\n",
       "      <th>lag_5</th>\n",
       "      <td>28673.0</td>\n",
       "      <td>25.502668</td>\n",
       "      <td>14.438623</td>\n",
       "      <td>1.0</td>\n",
       "      <td>13.0</td>\n",
       "      <td>26.0</td>\n",
       "      <td>38.0</td>\n",
       "      <td>51.0</td>\n",
       "    </tr>\n",
       "    <tr>\n",
       "      <th>delta_3</th>\n",
       "      <td>28673.0</td>\n",
       "      <td>-1.255676</td>\n",
       "      <td>7.961671</td>\n",
       "      <td>-50.0</td>\n",
       "      <td>-4.0</td>\n",
       "      <td>0.0</td>\n",
       "      <td>2.0</td>\n",
       "      <td>48.0</td>\n",
       "    </tr>\n",
       "    <tr>\n",
       "      <th>delta_4</th>\n",
       "      <td>28673.0</td>\n",
       "      <td>0.000209</td>\n",
       "      <td>6.066468</td>\n",
       "      <td>-47.0</td>\n",
       "      <td>-2.0</td>\n",
       "      <td>0.0</td>\n",
       "      <td>2.0</td>\n",
       "      <td>48.0</td>\n",
       "    </tr>\n",
       "    <tr>\n",
       "      <th>delta_5</th>\n",
       "      <td>28673.0</td>\n",
       "      <td>0.000663</td>\n",
       "      <td>6.065982</td>\n",
       "      <td>-47.0</td>\n",
       "      <td>-2.0</td>\n",
       "      <td>0.0</td>\n",
       "      <td>2.0</td>\n",
       "      <td>48.0</td>\n",
       "    </tr>\n",
       "  </tbody>\n",
       "</table>\n",
       "</div>"
      ],
      "text/plain": [
       "                  count         mean        std     min     25%     50%  \\\n",
       "delta_1         28673.0 -0.486207     6.155924  -50.0   -3.0     0.0      \n",
       "delta_2         28673.0 -0.770760     5.844371  -50.0   -2.0     0.0      \n",
       "lag_1           28673.0  25.986712    15.084231  1.0     13.0    26.0     \n",
       "lag_2           28673.0  26.757472    15.899286  1.0     13.0    26.0     \n",
       "move            28673.0  0.743382     0.436774   0.0     0.0     1.0      \n",
       "move_2n         28673.0  0.057859     0.860268  -1.0    -1.0     0.0      \n",
       "next_delta      28673.0  0.633139     5.682187  -36.0   -2.0     0.0      \n",
       "next_pos        28673.0  26.133645    15.147758  1.0     13.0    26.0     \n",
       "peak            28673.0  13.601088    12.161194  1.0     4.0     10.0     \n",
       "position        28673.0  25.500506    14.435957  1.0     13.0    26.0     \n",
       "total_weeks     28673.0  22.587940    14.632465  0.0     12.0    21.0     \n",
       "weeks_on_chart  28673.0  11.120880    10.521643  0.0     3.0     8.0      \n",
       "year            28673.0  1979.999023  3.163105   1975.0  1977.0  1980.0   \n",
       "weeks_lag       28673.0  12.516688    13.218109  0.0     0.0     9.0      \n",
       "peak_lag        28673.0  27.306072    19.995830  1.0     7.0     25.0     \n",
       "lag_3           28673.0  25.501796    14.437563  1.0     13.0    26.0     \n",
       "lag_4           28673.0  25.502005    14.437889  1.0     13.0    26.0     \n",
       "lag_5           28673.0  25.502668    14.438623  1.0     13.0    26.0     \n",
       "delta_3         28673.0 -1.255676     7.961671  -50.0   -4.0     0.0      \n",
       "delta_4         28673.0  0.000209     6.066468  -47.0   -2.0     0.0      \n",
       "delta_5         28673.0  0.000663     6.065982  -47.0   -2.0     0.0      \n",
       "\n",
       "                   75%     max  \n",
       "delta_1         2.0     33.0    \n",
       "delta_2         1.0     33.0    \n",
       "lag_1           39.0    63.0    \n",
       "lag_2           40.0    63.0    \n",
       "move            1.0     1.0     \n",
       "move_2n         1.0     1.0     \n",
       "next_delta      3.0     35.0    \n",
       "next_pos        39.0    74.0    \n",
       "peak            21.0    50.0    \n",
       "position        38.0    50.0    \n",
       "total_weeks     30.0    96.0    \n",
       "weeks_on_chart  16.0    96.0    \n",
       "year            1983.0  1985.0  \n",
       "weeks_lag       22.0    96.0    \n",
       "peak_lag        51.0    51.0    \n",
       "lag_3           38.0    51.0    \n",
       "lag_4           38.0    51.0    \n",
       "lag_5           38.0    51.0    \n",
       "delta_3         2.0     48.0    \n",
       "delta_4         2.0     48.0    \n",
       "delta_5         2.0     48.0    "
      ]
     },
     "execution_count": 7,
     "metadata": {},
     "output_type": "execute_result"
    }
   ],
   "source": [
    "df.describe().T"
   ]
  },
  {
   "cell_type": "code",
   "execution_count": 127,
   "metadata": {},
   "outputs": [
    {
     "data": {
      "image/png": "[encoded data removed]",
      "text/plain": [
       "<matplotlib.figure.Figure at 0x1a1e548400>"
      ]
     },
     "metadata": {},
     "output_type": "display_data"
    }
   ],
   "source": [
    "max_weeks = df[['key','weeks_on_chart']].groupby('key').max()\n",
    "peaks = df[['key','position']].groupby('key').min()\n",
    "\n",
    "plt.figure(figsize=(14,5))\n",
    "\n",
    "plt.subplot(121)\n",
    "plt.title(s='distribution of max weeks on chart')\n",
    "max_weeks.weeks_on_chart.hist(bins=10, ec='w', color='#5D2B97');\n",
    "\n",
    "plt.subplot(122)\n",
    "plt.title(s='distribution of peak chart position')\n",
    "peaks.position.hist(ec='w', bins=10, color='#5D2B97');"
   ]
  },
  {
   "cell_type": "code",
   "execution_count": 10,
   "metadata": {
    "collapsed": true
   },
   "outputs": [],
   "source": [
    "# using Pipeline for scaling\n",
    "px = Pipeline ([\n",
    "        ('ss', StandardScaler()),\n",
    "        ('clf', XGBClassifier())\n",
    "        \n",
    "])\n",
    "\n",
    "pr = Pipeline ([\n",
    "        ('ss', StandardScaler()),\n",
    "        ('clf', RandomForestClassifier())\n",
    "        \n",
    "])\n",
    "\n",
    "pk = Pipeline ([\n",
    "        ('ss', StandardScaler()),\n",
    "        ('clf', KNeighborsClassifier())\n",
    "        \n",
    "])\n",
    "\n",
    "ps = Pipeline ([\n",
    "        ('ss', StandardScaler()),\n",
    "        ('clf', SGDClassifier(loss='modified_huber'))\n",
    "        \n",
    "])"
   ]
  },
  {
   "cell_type": "code",
   "execution_count": 172,
   "metadata": {
    "collapsed": true
   },
   "outputs": [],
   "source": [
    "data = df\n",
    "feats = ['position','delta_1', 'delta_2', 'delta_3', 'delta_4', 'delta_5', 'weeks_on_chart', 'peak_lag', 'weeks_lag']\n",
    "\n",
    "drop_cols = [c for c in data.columns if c not in feats]\n",
    "\n",
    "target = 'move_2n'\n",
    "\n",
    "X = data.drop(drop_cols, axis=1)\n",
    "y = data.loc[:, target]\n",
    "\n",
    "X_train, X_test, y_train, y_test = train_test_split(X, y)\n",
    "# smote = SMOTE()\n",
    "# X_smote, y_smote = smote.fit_sample(X_train, y_train)"
   ]
  },
  {
   "cell_type": "code",
   "execution_count": 192,
   "metadata": {},
   "outputs": [
    {
     "data": {
      "text/plain": [
       "(21504, 6)"
      ]
     },
     "execution_count": 192,
     "metadata": {},
     "output_type": "execute_result"
    }
   ],
   "source": [
    "X_train.shape"
   ]
  },
  {
   "cell_type": "code",
   "execution_count": 12,
   "metadata": {},
   "outputs": [
    {
     "data": {
      "text/plain": [
       "Pipeline(memory=None,\n",
       "     steps=[('ss', StandardScaler(copy=True, with_mean=True, with_std=True)), ('clf', XGBClassifier(base_score=0.5, booster='gbtree', colsample_bylevel=1,\n",
       "       colsample_bytree=1, gamma=0, learning_rate=0.1, max_delta_step=0,\n",
       "       max_depth=3, min_child_weight=1, missing=None, n_estimators=100,\n",
       "       n_jobs=1, nthread=None, objective='multi:softprob', random_state=0,\n",
       "       reg_alpha=0, reg_lambda=1, scale_pos_weight=1, seed=None,\n",
       "       silent=True, subsample=1))])"
      ]
     },
     "execution_count": 12,
     "metadata": {},
     "output_type": "execute_result"
    }
   ],
   "source": [
    "px.fit(X_train, y_train)"
   ]
  },
  {
   "cell_type": "code",
   "execution_count": 13,
   "metadata": {},
   "outputs": [
    {
     "data": {
      "text/plain": [
       "0.64141555059523814"
      ]
     },
     "execution_count": 13,
     "metadata": {},
     "output_type": "execute_result"
    }
   ],
   "source": [
    "px.score(X_train, y_train)"
   ]
  },
  {
   "cell_type": "code",
   "execution_count": 14,
   "metadata": {},
   "outputs": [
    {
     "data": {
      "text/plain": [
       "0.63035290835541913"
      ]
     },
     "execution_count": 14,
     "metadata": {},
     "output_type": "execute_result"
    }
   ],
   "source": [
    "px.score(X_test, y_test)"
   ]
  },
  {
   "cell_type": "code",
   "execution_count": 15,
   "metadata": {},
   "outputs": [
    {
     "name": "stdout",
     "output_type": "stream",
     "text": [
      "             precision    recall  f1-score   support\n",
      "\n",
      "       -1.0       0.71      0.66      0.68      2462\n",
      "        0.0       0.51      0.24      0.32      1818\n",
      "        1.0       0.61      0.85      0.71      2889\n",
      "\n",
      "avg / total       0.62      0.63      0.60      7169\n",
      "\n",
      " 1.0    4049\n",
      "-1.0    2283\n",
      " 0.0    837 \n",
      "Name: 0, dtype: int64\n"
     ]
    },
    {
     "data": {
      "image/png": "[encoded data removed]",
      "text/plain": [
       "<matplotlib.figure.Figure at 0x109f86ef0>"
      ]
     },
     "metadata": {},
     "output_type": "display_data"
    }
   ],
   "source": [
    "classy(X_test, y_test, px)"
   ]
  },
  {
   "cell_type": "code",
   "execution_count": 113,
   "metadata": {},
   "outputs": [
    {
     "name": "stdout",
     "output_type": "stream",
     "text": [
      "             precision    recall  f1-score   support\n",
      "\n",
      "       -1.0       0.65      0.65      0.65      2435\n",
      "        0.0       0.41      0.31      0.36      1850\n",
      "        1.0       0.61      0.71      0.66      2884\n",
      "\n",
      "avg / total       0.57      0.59      0.58      7169\n",
      "\n",
      " 1.0    3329\n",
      "-1.0    2441\n",
      " 0.0    1399\n",
      "Name: 0, dtype: int64\n"
     ]
    },
    {
     "data": {
      "image/png": "[encoded data removed]",
      "text/plain": [
       "<matplotlib.figure.Figure at 0x1a12a7a6a0>"
      ]
     },
     "metadata": {},
     "output_type": "display_data"
    }
   ],
   "source": [
    "pr.fit(X_train, y_train)\n",
    "classy(X_test, y_test, pr)"
   ]
  },
  {
   "cell_type": "code",
   "execution_count": 114,
   "metadata": {},
   "outputs": [
    {
     "data": {
      "text/plain": [
       "0.98223586309523814"
      ]
     },
     "execution_count": 114,
     "metadata": {},
     "output_type": "execute_result"
    }
   ],
   "source": [
    "pr.score(X_train, y_train)"
   ]
  },
  {
   "cell_type": "code",
   "execution_count": 115,
   "metadata": {},
   "outputs": [
    {
     "data": {
      "text/plain": [
       "0.58613474682661459"
      ]
     },
     "execution_count": 115,
     "metadata": {},
     "output_type": "execute_result"
    }
   ],
   "source": [
    "pr.score(X_test, y_test)"
   ]
  },
  {
   "cell_type": "code",
   "execution_count": 116,
   "metadata": {},
   "outputs": [
    {
     "name": "stdout",
     "output_type": "stream",
     "text": [
      "             precision    recall  f1-score   support\n",
      "\n",
      "       -1.0       0.60      0.66      0.63      2435\n",
      "        0.0       0.38      0.33      0.35      1850\n",
      "        1.0       0.61      0.61      0.61      2884\n",
      "\n",
      "avg / total       0.55      0.55      0.55      7169\n",
      "\n",
      " 1.0    2887\n",
      "-1.0    2664\n",
      " 0.0    1618\n",
      "Name: 0, dtype: int64\n"
     ]
    },
    {
     "data": {
      "image/png": "[encoded data removed]",
      "text/plain": [
       "<matplotlib.figure.Figure at 0x1a11a55f60>"
      ]
     },
     "metadata": {},
     "output_type": "display_data"
    }
   ],
   "source": [
    "pk.fit(X_train, y_train)\n",
    "classy(X_test, y_test, pk)"
   ]
  },
  {
   "cell_type": "code",
   "execution_count": 117,
   "metadata": {},
   "outputs": [
    {
     "data": {
      "text/plain": [
       "0.69480096726190477"
      ]
     },
     "execution_count": 117,
     "metadata": {},
     "output_type": "execute_result"
    }
   ],
   "source": [
    "pk.score(X_train, y_train)"
   ]
  },
  {
   "cell_type": "code",
   "execution_count": 118,
   "metadata": {},
   "outputs": [
    {
     "data": {
      "text/plain": [
       "0.55419165852978103"
      ]
     },
     "execution_count": 118,
     "metadata": {},
     "output_type": "execute_result"
    }
   ],
   "source": [
    "pk.score(X_test, y_test)"
   ]
  },
  {
   "cell_type": "code",
   "execution_count": 119,
   "metadata": {},
   "outputs": [
    {
     "name": "stdout",
     "output_type": "stream",
     "text": [
      "             precision    recall  f1-score   support\n",
      "\n",
      "       -1.0       0.56      0.64      0.60      2435\n",
      "        0.0       0.39      0.44      0.41      1850\n",
      "        1.0       0.60      0.47      0.53      2884\n",
      "\n",
      "avg / total       0.53      0.52      0.52      7169\n",
      "\n",
      "-1.0    2803\n",
      " 1.0    2247\n",
      " 0.0    2119\n",
      "Name: 0, dtype: int64\n"
     ]
    },
    {
     "data": {
      "image/png": "[encoded data removed]",
      "text/plain": [
       "<matplotlib.figure.Figure at 0x1a10a80588>"
      ]
     },
     "metadata": {},
     "output_type": "display_data"
    }
   ],
   "source": [
    "ps.fit(X_train, y_train)\n",
    "classy(X_test, y_test, ps)"
   ]
  },
  {
   "cell_type": "code",
   "execution_count": 120,
   "metadata": {},
   "outputs": [
    {
     "data": {
      "text/plain": [
       "0.52669270833333337"
      ]
     },
     "execution_count": 120,
     "metadata": {},
     "output_type": "execute_result"
    }
   ],
   "source": [
    "ps.score(X_train, y_train)"
   ]
  },
  {
   "cell_type": "code",
   "execution_count": 121,
   "metadata": {},
   "outputs": [
    {
     "data": {
      "text/plain": [
       "0.5216906123587669"
      ]
     },
     "execution_count": 121,
     "metadata": {},
     "output_type": "execute_result"
    }
   ],
   "source": [
    "ps.score(X_test, y_test)"
   ]
  },
  {
   "cell_type": "code",
   "execution_count": 173,
   "metadata": {
    "collapsed": true
   },
   "outputs": [],
   "source": [
    "def proboy(X_tr, y_tr, X_te, y_te, model, data):\n",
    "    model.fit(X_tr, y_tr)\n",
    "    preds = model.predict_proba(X_te)\n",
    "    outs = pd.concat([X_te, y_te], axis=1)\n",
    "    outs['down_proba'] = preds[:,0]\n",
    "    outs['stay_proba'] = preds[:,1]\n",
    "    outs['up_proba'] = preds[:,2]\n",
    "    outs  = pd.merge(outs, data[['key','artist']],\n",
    "                     how='inner', left_index=True, right_index=True).drop('artist', axis=1)\n",
    "    return outs"
   ]
  },
  {
   "cell_type": "code",
   "execution_count": 174,
   "metadata": {},
   "outputs": [],
   "source": [
    "# save predict proba results\n",
    "xg_outs = proboy(X_train, y_train, X_test, y_test, px, df)\n",
    "rf_outs = proboy(X_train, y_train, X_test, y_test, pr, df)\n",
    "knn_outs = proboy(X_train, y_train, X_test, y_test, pk, df)\n",
    "sgd_outs = proboy(X_train, y_train, X_test, y_test, ps, df)"
   ]
  },
  {
   "cell_type": "code",
   "execution_count": 175,
   "metadata": {},
   "outputs": [
    {
     "data": {
      "image/png": "[encoded data removed]",
      "text/plain": [
       "<matplotlib.figure.Figure at 0x1a2192d278>"
      ]
     },
     "metadata": {},
     "output_type": "display_data"
    }
   ],
   "source": [
    "# hists of xgb predict proba and svc predict proba for test\n",
    "fig = plt.figure(figsize=(16,8))\n",
    "ms = ['xg', 'rf', 'knn', 'sgd']\n",
    "a = 0.5\n",
    "b = 10\n",
    "dz = False\n",
    "for o in ms:\n",
    "    plt.subplot(2,2,ms.index(o)+1)\n",
    "    d = eval(f'{o}_outs')\n",
    "    plt.title(s=f'{o} preds')\n",
    "    d.down_proba.hist(bins=b, density=dz, alpha=a)\n",
    "    d.stay_proba.hist(bins=b, density=dz, alpha=a)\n",
    "    d.up_proba.hist(bins=b, density=dz, alpha=a)\n",
    "    # plt.xlim(0,1) \n",
    "    \n",
    "plt.legend(['down_proba', 'stay_proba', 'up_proba']);"
   ]
  },
  {
   "cell_type": "code",
   "execution_count": 132,
   "metadata": {},
   "outputs": [
    {
     "data": {
      "image/png": "[encoded data removed]",
      "text/plain": [
       "<matplotlib.figure.Figure at 0x1a1ed50eb8>"
      ]
     },
     "metadata": {},
     "output_type": "display_data"
    }
   ],
   "source": [
    "# hists of xgb predict proba for test\n",
    "fig = plt.figure(figsize=(15,5))\n",
    "a = 0.5\n",
    "b = 50\n",
    "dz = False\n",
    "d = xg_outs\n",
    "plt.title(s=f'xg preds')\n",
    "d.down_proba.hist(bins=b, density=dz, alpha=a)\n",
    "d.stay_proba.hist(bins=b, density=dz, alpha=a)\n",
    "d.up_proba.hist(bins=b, density=dz, alpha=a)\n",
    "# plt.xlim(0,1) \n",
    "    \n",
    "plt.legend(['down_proba', 'stay_proba', 'up_proba']);"
   ]
  },
  {
   "cell_type": "code",
   "execution_count": 130,
   "metadata": {},
   "outputs": [
    {
     "data": {
      "image/png": "[encoded data removed]",
      "text/plain": [
       "<matplotlib.figure.Figure at 0x1a1d587438>"
      ]
     },
     "metadata": {},
     "output_type": "display_data"
    }
   ],
   "source": [
    "# hists of xgb, rf, knn, and sgd predict proba predict proba for test\n",
    "# individual hists for each outcome\n",
    "fig = plt.figure(figsize=(15,10))\n",
    "plt.subplots_adjust(left=None, bottom=None, right=None, top=1.5,\n",
    "                wspace=None, hspace=None)\n",
    "# model = ['xg', 'rf', 'knn', 'sgd']\n",
    "model = {'xg':'C9', 'rf':'C4', 'sgd':'C2'}\n",
    "outcome= ['down_proba', 'stay_proba', 'up_proba']\n",
    "# outcome= {'down_proba':'C1', 'stay_proba':'C2', 'up_proba':'C3'}\n",
    "a = 0.8\n",
    "b = 10\n",
    "dz = False\n",
    "p = 1\n",
    "for m, c in model.items():\n",
    "    d = eval(f'{m}_outs')\n",
    "    for o in outcome:\n",
    "        ax = plt.subplot(4,3,p)\n",
    "        plt.title(s=f'{m}, {o}')\n",
    "        d[o].hist(bins=b, density=dz, alpha=a, color=c)\n",
    "#         ax = plt.hist(d[o], bins=b, density=dz, alpha=a, color=c)\n",
    "#         plt.axvline(x=d[o].value_counts(normalize=True).max(), c='C7', linestyle=':')\n",
    "        p += 1\n",
    "\n",
    "# plt.legend(['down_proba', 'stay_proba', 'up_proba']);"
   ]
  },
  {
   "cell_type": "code",
   "execution_count": 125,
   "metadata": {},
   "outputs": [
    {
     "data": {
      "image/png": "[encoded data removed]",
      "text/plain": [
       "<matplotlib.figure.Figure at 0x1a1ec1c780>"
      ]
     },
     "metadata": {},
     "output_type": "display_data"
    }
   ],
   "source": [
    "# hists of xgb predict proba for test\n",
    "# more 'sure' predictions only\n",
    "fig = plt.figure(figsize=(16,5))\n",
    "a = 0.5\n",
    "b = 30\n",
    "dz = True\n",
    "d = xg_outs\n",
    "outcome= ['down_proba', 'stay_proba', 'up_proba']\n",
    "limit = 0.5\n",
    "p = 1\n",
    "for o in outcome:\n",
    "    ax = plt.subplot(1,3,p)\n",
    "    plt.title(s=f'xg preds, {o} > {limit}')\n",
    "    ax = d[d[o] > limit].down_proba.hist(bins=b, density=dz, alpha=a)\n",
    "    ax = d[d[o] > limit].stay_proba.hist(bins=b, density=dz, alpha=a)\n",
    "    ax = d[d[o] > limit].up_proba.hist(bins=b, density=dz, alpha=a)\n",
    "    p += 1\n",
    "#     plt.ylim(0,700) \n",
    "    plt.xlim(-0.05,1.05)\n",
    "    ax.legend(['down_proba', 'stay_proba', 'up_proba']);\n",
    "\n",
    "    \n"
   ]
  },
  {
   "cell_type": "code",
   "execution_count": 133,
   "metadata": {
    "collapsed": true
   },
   "outputs": [],
   "source": [
    "data = df\n",
    "feats = ['position','delta_1', 'delta_2', 'delta_3', 'delta_4', 'delta_5', 'weeks_on_chart', 'peak_lag', 'weeks_lag']\n",
    "\n",
    "drop_cols = [c for c in data.columns if c not in feats]\n",
    "\n",
    "target = 'move'\n",
    "\n",
    "X = data.drop(drop_cols, axis=1)\n",
    "y = data.loc[:, target]\n",
    "\n",
    "X_train, X_test, y_train, y_test = train_test_split(X, y)\n",
    "smote = SMOTE()\n",
    "X_smote, y_smote = smote.fit_sample(X_train, y_train)"
   ]
  },
  {
   "cell_type": "code",
   "execution_count": 136,
   "metadata": {},
   "outputs": [
    {
     "data": {
      "text/plain": [
       "Pipeline(memory=None,\n",
       "     steps=[('ss', StandardScaler(copy=True, with_mean=True, with_std=True)), ('clf', XGBClassifier(base_score=0.5, booster='gbtree', colsample_bylevel=1,\n",
       "       colsample_bytree=1, gamma=0, learning_rate=0.1, max_delta_step=0,\n",
       "       max_depth=3, min_child_weight=1, missing=None, n_estimators=100,\n",
       "       n_jobs=1, nthread=None, objective='binary:logistic', random_state=0,\n",
       "       reg_alpha=0, reg_lambda=1, scale_pos_weight=1, seed=None,\n",
       "       silent=True, subsample=1))])"
      ]
     },
     "execution_count": 136,
     "metadata": {},
     "output_type": "execute_result"
    }
   ],
   "source": [
    "px.fit(X_train, y_train)"
   ]
  },
  {
   "cell_type": "code",
   "execution_count": 137,
   "metadata": {},
   "outputs": [
    {
     "data": {
      "text/plain": [
       "0.75756730366857306"
      ]
     },
     "execution_count": 137,
     "metadata": {},
     "output_type": "execute_result"
    }
   ],
   "source": [
    "px.score(X_test, y_test)"
   ]
  },
  {
   "cell_type": "code",
   "execution_count": 138,
   "metadata": {},
   "outputs": [
    {
     "data": {
      "text/plain": [
       "0.76106770833333337"
      ]
     },
     "execution_count": 138,
     "metadata": {},
     "output_type": "execute_result"
    }
   ],
   "source": [
    "px.score(X_train, y_train)"
   ]
  },
  {
   "cell_type": "code",
   "execution_count": 141,
   "metadata": {
    "collapsed": true
   },
   "outputs": [],
   "source": [
    "def classy_bin(x, y, model):\n",
    "    y_pred = model.predict(x)\n",
    "    conf_mat = pd.DataFrame(\n",
    "        confusion_matrix(y, y_pred))\n",
    "    \n",
    "    fig = plt.figure(figsize=(10,8))\n",
    "    sns.heatmap(conf_mat.apply(lambda x: x/x.sum(),axis=1), annot=True, cmap='Greens')\n",
    "    \n",
    "    print(classification_report(y, y_pred))\n",
    "\n",
    "    print(pd.DataFrame(y_pred)[0].value_counts())\n",
    "    return"
   ]
  },
  {
   "cell_type": "code",
   "execution_count": 143,
   "metadata": {},
   "outputs": [
    {
     "name": "stdout",
     "output_type": "stream",
     "text": [
      "             precision    recall  f1-score   support\n",
      "\n",
      "        0.0       0.59      0.15      0.24      1818\n",
      "        1.0       0.77      0.96      0.86      5351\n",
      "\n",
      "avg / total       0.72      0.76      0.70      7169\n",
      "\n",
      "1.0    6709\n",
      "0.0    460 \n",
      "Name: 0, dtype: int64\n"
     ]
    },
    {
     "data": {
      "image/png": "[encoded data removed]",
      "text/plain": [
       "<matplotlib.figure.Figure at 0x1a0fc03ba8>"
      ]
     },
     "metadata": {},
     "output_type": "display_data"
    }
   ],
   "source": [
    "classy_bin(X_test, y_test, px)"
   ]
  },
  {
   "cell_type": "code",
   "execution_count": 144,
   "metadata": {},
   "outputs": [
    {
     "data": {
      "text/plain": [
       "Pipeline(memory=None,\n",
       "     steps=[('ss', StandardScaler(copy=True, with_mean=True, with_std=True)), ('clf', RandomForestClassifier(bootstrap=True, class_weight=None, criterion='gini',\n",
       "            max_depth=None, max_features='auto', max_leaf_nodes=None,\n",
       "            min_impurity_decrease=0.0, min_impurity_split=None,\n",
       "         ...n_jobs=1,\n",
       "            oob_score=False, random_state=None, verbose=0,\n",
       "            warm_start=False))])"
      ]
     },
     "execution_count": 144,
     "metadata": {},
     "output_type": "execute_result"
    }
   ],
   "source": [
    "pr.fit(X_train, y_train)"
   ]
  },
  {
   "cell_type": "code",
   "execution_count": 146,
   "metadata": {},
   "outputs": [
    {
     "name": "stdout",
     "output_type": "stream",
     "text": [
      "             precision    recall  f1-score   support\n",
      "\n",
      "        0.0       0.40      0.30      0.34      1818\n",
      "        1.0       0.78      0.85      0.81      5351\n",
      "\n",
      "avg / total       0.68      0.71      0.69      7169\n",
      "\n",
      "1.0    5812\n",
      "0.0    1357\n",
      "Name: 0, dtype: int64\n"
     ]
    },
    {
     "data": {
      "image/png": "[encoded data removed]",
      "text/plain": [
       "<matplotlib.figure.Figure at 0x1098556a0>"
      ]
     },
     "metadata": {},
     "output_type": "display_data"
    }
   ],
   "source": [
    "classy_bin(X_test, y_test, pr)"
   ]
  },
  {
   "cell_type": "code",
   "execution_count": 150,
   "metadata": {
    "collapsed": true
   },
   "outputs": [],
   "source": [
    "def add_lags(data, n_lags=5, start=3):\n",
    "    for n in range(start, n_lags+1):\n",
    "        data[f'lag_{n}'] = data['position'].shift(n)\n",
    "    \n",
    "    data.fillna(51, inplace=True)\n",
    "    \n",
    "    for n in range(start, n_lags+1): \n",
    "        data[f'delta_{n}'] = df[f'lag_{n}'] - df[f'lag_{n-1}']\n",
    "        \n",
    "    return data"
   ]
  },
  {
   "cell_type": "code",
   "execution_count": 193,
   "metadata": {
    "collapsed": true
   },
   "outputs": [],
   "source": [
    "df = pd.read_csv('data_safe/df_at_for_models_714.csv').drop('Unnamed: 0', axis=1)"
   ]
  },
  {
   "cell_type": "code",
   "execution_count": 194,
   "metadata": {
    "collapsed": true
   },
   "outputs": [],
   "source": [
    "df_5lag = add_lags(df, n_lags=5)"
   ]
  },
  {
   "cell_type": "code",
   "execution_count": 196,
   "metadata": {
    "collapsed": true
   },
   "outputs": [],
   "source": [
    "df_5lag.to_csv('data_safe/df_5lags.csv', index=False)"
   ]
  },
  {
   "cell_type": "code",
   "execution_count": 195,
   "metadata": {},
   "outputs": [
    {
     "data": {
      "text/plain": [
       "Index(['artist', 'chart_date', 'debut', 'delta_1', 'delta_2', 'key', 'lag_1',\n",
       "       'lag_2', 'move', 'move_2', 'move_2n', 'next_delta', 'next_pos', 'peak',\n",
       "       'position', 'title', 'total_weeks', 'weeks_on_chart', 'year',\n",
       "       'weeks_lag', 'peak_lag', 'lag_3', 'lag_4', 'lag_5', 'delta_3',\n",
       "       'delta_4', 'delta_5'],\n",
       "      dtype='object')"
      ]
     },
     "execution_count": 195,
     "metadata": {},
     "output_type": "execute_result"
    }
   ],
   "source": [
    "df_5lag.columns"
   ]
  },
  {
   "cell_type": "code",
   "execution_count": 152,
   "metadata": {
    "collapsed": true
   },
   "outputs": [],
   "source": [
    "df_10lag = add_lags(df, n_lags=10)"
   ]
  },
  {
   "cell_type": "code",
   "execution_count": 153,
   "metadata": {},
   "outputs": [
    {
     "data": {
      "text/plain": [
       "Index(['artist', 'chart_date', 'debut', 'delta_1', 'delta_2', 'key', 'lag_1',\n",
       "       'lag_2', 'move', 'move_2', 'move_2n', 'next_delta', 'next_pos', 'peak',\n",
       "       'position', 'title', 'total_weeks', 'weeks_on_chart', 'year',\n",
       "       'weeks_lag', 'peak_lag', 'lag_3', 'lag_4', 'lag_5', 'lag_6', 'lag_7',\n",
       "       'lag_8', 'lag_9', 'lag_10', 'delta_3', 'delta_4', 'delta_5', 'delta_6',\n",
       "       'delta_7', 'delta_8', 'delta_9', 'delta_10'],\n",
       "      dtype='object')"
      ]
     },
     "execution_count": 153,
     "metadata": {},
     "output_type": "execute_result"
    }
   ],
   "source": [
    "df_10lag.columns"
   ]
  },
  {
   "cell_type": "code",
   "execution_count": 154,
   "metadata": {
    "collapsed": true
   },
   "outputs": [],
   "source": [
    "data = df\n",
    "feats = ['position','delta_1', 'delta_2', 'delta_3', 'delta_4', 'delta_5', 'delta_6', 'delta_7',\n",
    "         'delta_8', 'delta_9', 'delta_10', 'weeks_on_chart', 'peak_lag', 'weeks_lag']\n",
    "\n",
    "drop_cols = [c for c in data.columns if c not in feats]\n",
    "\n",
    "target = 'move_2n'\n",
    "\n",
    "X = data.drop(drop_cols, axis=1)\n",
    "y = data.loc[:, target]\n",
    "\n",
    "X_train, X_test, y_train, y_test = train_test_split(X, y)"
   ]
  },
  {
   "cell_type": "code",
   "execution_count": 155,
   "metadata": {},
   "outputs": [
    {
     "data": {
      "text/plain": [
       "Pipeline(memory=None,\n",
       "     steps=[('ss', StandardScaler(copy=True, with_mean=True, with_std=True)), ('clf', XGBClassifier(base_score=0.5, booster='gbtree', colsample_bylevel=1,\n",
       "       colsample_bytree=1, gamma=0, learning_rate=0.1, max_delta_step=0,\n",
       "       max_depth=3, min_child_weight=1, missing=None, n_estimators=100,\n",
       "       n_jobs=1, nthread=None, objective='multi:softprob', random_state=0,\n",
       "       reg_alpha=0, reg_lambda=1, scale_pos_weight=1, seed=None,\n",
       "       silent=True, subsample=1))])"
      ]
     },
     "execution_count": 155,
     "metadata": {},
     "output_type": "execute_result"
    }
   ],
   "source": [
    "px.fit(X_train, y_train)"
   ]
  },
  {
   "cell_type": "code",
   "execution_count": 159,
   "metadata": {},
   "outputs": [
    {
     "data": {
      "text/plain": [
       "0.63356116613195701"
      ]
     },
     "execution_count": 159,
     "metadata": {},
     "output_type": "execute_result"
    }
   ],
   "source": [
    "px.score(X_test, y_test)"
   ]
  },
  {
   "cell_type": "code",
   "execution_count": 158,
   "metadata": {},
   "outputs": [
    {
     "data": {
      "text/plain": [
       "0.64113653273809523"
      ]
     },
     "execution_count": 158,
     "metadata": {},
     "output_type": "execute_result"
    }
   ],
   "source": [
    "px.score(X_train, y_train)"
   ]
  },
  {
   "cell_type": "code",
   "execution_count": 157,
   "metadata": {},
   "outputs": [
    {
     "name": "stdout",
     "output_type": "stream",
     "text": [
      "             precision    recall  f1-score   support\n",
      "\n",
      "       -1.0       0.70      0.67      0.69      2419\n",
      "        0.0       0.56      0.24      0.34      1896\n",
      "        1.0       0.61      0.86      0.71      2854\n",
      "\n",
      "avg / total       0.63      0.63      0.61      7169\n",
      "\n",
      " 1.0    4015\n",
      "-1.0    2322\n",
      " 0.0    832 \n",
      "Name: 0, dtype: int64\n"
     ]
    },
    {
     "data": {
      "image/png": "[encoded data removed]",
      "text/plain": [
       "<matplotlib.figure.Figure at 0x1a128eda20>"
      ]
     },
     "metadata": {},
     "output_type": "display_data"
    }
   ],
   "source": [
    "classy(X_test, y_test, px)"
   ]
  },
  {
   "cell_type": "markdown",
   "metadata": {},
   "source": [
    "its limited returns as lags are added because there arent that many albums that are on the chart long enough for extra lags to be useful"
   ]
  },
  {
   "cell_type": "code",
   "execution_count": 84,
   "metadata": {},
   "outputs": [
    {
     "data": {
      "image/png": "[encoded data removed]",
      "text/plain": [
       "<matplotlib.figure.Figure at 0x1a1e6077f0>"
      ]
     },
     "metadata": {},
     "output_type": "display_data"
    }
   ],
   "source": [
    "max_weeks = df[['key','weeks_on_chart']].groupby('key').max()\n",
    "peaks = df[['key','position']].groupby('key').min()\n",
    "\n",
    "plt.figure(figsize=(14,5))\n",
    "\n",
    "plt.title(s='distribution of max weeks on chart')\n",
    "max_weeks.weeks_on_chart.hist(bins=50, ec='w', color='#5D2B97');"
   ]
  },
  {
   "cell_type": "code",
   "execution_count": 177,
   "metadata": {},
   "outputs": [],
   "source": [
    "# re-up only 2 lags ... is it any worse than with 5?\n",
    "df_2 = pd.read_csv('data_safe/df_at_for_models_714.csv').drop('Unnamed: 0', axis=1)\n",
    "\n",
    "data = df_2\n",
    "feats = ['position','delta_1', 'delta_2', 'weeks_on_chart', 'peak_lag', 'weeks_lag']\n",
    "\n",
    "drop_cols = [c for c in data.columns if c not in feats]\n",
    "\n",
    "target = 'move_2n'\n",
    "\n",
    "X = data.drop(drop_cols, axis=1)\n",
    "y = data.loc[:, target]\n",
    "\n",
    "X_train, X_test, y_train, y_test = train_test_split(X, y)\n",
    "\n",
    "# save predict proba results\n",
    "xg_outs_2 = proboy(X_train, y_train, X_test, y_test, px, df_2)\n",
    "rf_outs_2 = proboy(X_train, y_train, X_test, y_test, pr, df_2)\n",
    "knn_outs_2 = proboy(X_train, y_train, X_test, y_test, pk, df_2)\n",
    "sgd_outs_2 = proboy(X_train, y_train, X_test, y_test, ps, df_2)"
   ]
  },
  {
   "cell_type": "code",
   "execution_count": 178,
   "metadata": {},
   "outputs": [
    {
     "data": {
      "image/png": "[encoded data removed]",
      "text/plain": [
       "<matplotlib.figure.Figure at 0x1a1ebfc668>"
      ]
     },
     "metadata": {},
     "output_type": "display_data"
    }
   ],
   "source": [
    "# hists of xgb predict proba for test\n",
    "fig = plt.figure(figsize=(15,5))\n",
    "a = 0.5\n",
    "b = 50\n",
    "dz = False\n",
    "all_data = [xg_outs, xg_outs_2]\n",
    "p = 1\n",
    "for d in all_data:\n",
    "    plt.subplot(1,2,p)\n",
    "    plt.title(s=f'xg preds')\n",
    "    d.down_proba.hist(bins=b, density=dz, alpha=a)\n",
    "    d.stay_proba.hist(bins=b, density=dz, alpha=a)\n",
    "    d.up_proba.hist(bins=b, density=dz, alpha=a)\n",
    "    p += 1\n",
    "    # plt.xlim(0,1) \n",
    "\n",
    "plt.legend(['down_proba', 'stay_proba', 'up_proba']);"
   ]
  },
  {
   "cell_type": "code",
   "execution_count": 185,
   "metadata": {},
   "outputs": [
    {
     "data": {
      "image/png": "[encoded data removed]",
      "text/plain": [
       "<matplotlib.figure.Figure at 0x1a1adeadd8>"
      ]
     },
     "metadata": {},
     "output_type": "display_data"
    }
   ],
   "source": [
    "# hists of xgb predict proba and svc predict proba for test\n",
    "fig = plt.figure(figsize=(15,10))\n",
    "plt.subplots_adjust(left=None, bottom=None, right=None, top=1.5,\n",
    "                wspace=None, hspace=None)\n",
    "ms = ['xg', 'rf', 'knn', 'sgd']\n",
    "a = 0.5\n",
    "b = 10\n",
    "dz = False\n",
    "p = 1\n",
    "for o in ms:\n",
    "    d_5 = eval(f'{o}_outs')\n",
    "    d_2 = eval(f'{o}_outs_2')\n",
    "    \n",
    "    plt.subplot(4,2,p)\n",
    "    plt.title(s=f'{o} preds, 2 lags')\n",
    "    d_2.down_proba.hist(bins=b, density=dz, alpha=a)\n",
    "    d_2.stay_proba.hist(bins=b, density=dz, alpha=a)\n",
    "    d_2.up_proba.hist(bins=b, density=dz, alpha=a)\n",
    "    plt.ylim(0,5000)\n",
    "    p += 1\n",
    "    \n",
    "    plt.subplot(4,2,p)\n",
    "    plt.title(s=f'{o} preds, 5 lags')\n",
    "    d_5.down_proba.hist(bins=b, density=dz, alpha=a)\n",
    "    d_5.stay_proba.hist(bins=b, density=dz, alpha=a)\n",
    "    d_5.up_proba.hist(bins=b, density=dz, alpha=a)\n",
    "    plt.ylim(0,5000)\n",
    "    p += 1\n",
    "    \n",
    "plt.legend(['down_proba', 'stay_proba', 'up_proba']);"
   ]
  },
  {
   "cell_type": "code",
   "execution_count": 186,
   "metadata": {},
   "outputs": [
    {
     "data": {
      "text/html": [
       "<div>\n",
       "<style>\n",
       "    .dataframe thead tr:only-child th {\n",
       "        text-align: right;\n",
       "    }\n",
       "\n",
       "    .dataframe thead th {\n",
       "        text-align: left;\n",
       "    }\n",
       "\n",
       "    .dataframe tbody tr th {\n",
       "        vertical-align: top;\n",
       "    }\n",
       "</style>\n",
       "<table border=\"1\" class=\"dataframe\">\n",
       "  <thead>\n",
       "    <tr style=\"text-align: right;\">\n",
       "      <th></th>\n",
       "      <th>delta_1</th>\n",
       "      <th>delta_2</th>\n",
       "      <th>position</th>\n",
       "      <th>weeks_on_chart</th>\n",
       "      <th>weeks_lag</th>\n",
       "      <th>peak_lag</th>\n",
       "      <th>delta_3</th>\n",
       "      <th>delta_4</th>\n",
       "      <th>delta_5</th>\n",
       "      <th>move_2n</th>\n",
       "      <th>down_proba</th>\n",
       "      <th>stay_proba</th>\n",
       "      <th>up_proba</th>\n",
       "      <th>key</th>\n",
       "    </tr>\n",
       "  </thead>\n",
       "  <tbody>\n",
       "    <tr>\n",
       "      <th>15540</th>\n",
       "      <td>-5.0</td>\n",
       "      <td>-6.0</td>\n",
       "      <td>22</td>\n",
       "      <td>3</td>\n",
       "      <td>24.0</td>\n",
       "      <td>2.0</td>\n",
       "      <td>8.0</td>\n",
       "      <td>7.0</td>\n",
       "      <td>0.0</td>\n",
       "      <td>-1.0</td>\n",
       "      <td>0.735887</td>\n",
       "      <td>0.230475</td>\n",
       "      <td>0.033638</td>\n",
       "      <td>Ray, Goodman &amp; Brown - Ray, Goodman And Brown II</td>\n",
       "    </tr>\n",
       "    <tr>\n",
       "      <th>9326</th>\n",
       "      <td>1.0</td>\n",
       "      <td>10.0</td>\n",
       "      <td>46</td>\n",
       "      <td>18</td>\n",
       "      <td>0.0</td>\n",
       "      <td>51.0</td>\n",
       "      <td>-8.0</td>\n",
       "      <td>-9.0</td>\n",
       "      <td>0.0</td>\n",
       "      <td>1.0</td>\n",
       "      <td>0.139791</td>\n",
       "      <td>0.134693</td>\n",
       "      <td>0.725517</td>\n",
       "      <td>Linda Clifford - If My Friends Could See Me Now</td>\n",
       "    </tr>\n",
       "    <tr>\n",
       "      <th>17315</th>\n",
       "      <td>-6.0</td>\n",
       "      <td>-8.0</td>\n",
       "      <td>11</td>\n",
       "      <td>2</td>\n",
       "      <td>26.0</td>\n",
       "      <td>9.0</td>\n",
       "      <td>25.0</td>\n",
       "      <td>0.0</td>\n",
       "      <td>-21.0</td>\n",
       "      <td>-1.0</td>\n",
       "      <td>0.824461</td>\n",
       "      <td>0.163982</td>\n",
       "      <td>0.011556</td>\n",
       "      <td>Teena Marie - It Must Be Magic</td>\n",
       "    </tr>\n",
       "    <tr>\n",
       "      <th>3914</th>\n",
       "      <td>2.0</td>\n",
       "      <td>-3.0</td>\n",
       "      <td>19</td>\n",
       "      <td>6</td>\n",
       "      <td>12.0</td>\n",
       "      <td>27.0</td>\n",
       "      <td>1.0</td>\n",
       "      <td>6.0</td>\n",
       "      <td>10.0</td>\n",
       "      <td>1.0</td>\n",
       "      <td>0.174360</td>\n",
       "      <td>0.223329</td>\n",
       "      <td>0.602311</td>\n",
       "      <td>Millie Jackson - Free And In Love</td>\n",
       "    </tr>\n",
       "    <tr>\n",
       "      <th>25997</th>\n",
       "      <td>-4.0</td>\n",
       "      <td>0.0</td>\n",
       "      <td>35</td>\n",
       "      <td>3</td>\n",
       "      <td>1.0</td>\n",
       "      <td>50.0</td>\n",
       "      <td>4.0</td>\n",
       "      <td>-3.0</td>\n",
       "      <td>0.0</td>\n",
       "      <td>0.0</td>\n",
       "      <td>0.508422</td>\n",
       "      <td>0.357051</td>\n",
       "      <td>0.134527</td>\n",
       "      <td>Bobby Bland - You've Got Me Loving You</td>\n",
       "    </tr>\n",
       "    <tr>\n",
       "      <th>20754</th>\n",
       "      <td>7.0</td>\n",
       "      <td>4.0</td>\n",
       "      <td>45</td>\n",
       "      <td>23</td>\n",
       "      <td>40.0</td>\n",
       "      <td>1.0</td>\n",
       "      <td>-1.0</td>\n",
       "      <td>0.0</td>\n",
       "      <td>-2.0</td>\n",
       "      <td>1.0</td>\n",
       "      <td>0.124980</td>\n",
       "      <td>0.229596</td>\n",
       "      <td>0.645424</td>\n",
       "      <td>Kool &amp; The Gang - As One</td>\n",
       "    </tr>\n",
       "    <tr>\n",
       "      <th>7110</th>\n",
       "      <td>-4.0</td>\n",
       "      <td>-10.0</td>\n",
       "      <td>4</td>\n",
       "      <td>2</td>\n",
       "      <td>30.0</td>\n",
       "      <td>5.0</td>\n",
       "      <td>16.0</td>\n",
       "      <td>0.0</td>\n",
       "      <td>-3.0</td>\n",
       "      <td>-1.0</td>\n",
       "      <td>0.630985</td>\n",
       "      <td>0.349897</td>\n",
       "      <td>0.019117</td>\n",
       "      <td>The Emotions - Rejoice</td>\n",
       "    </tr>\n",
       "    <tr>\n",
       "      <th>27143</th>\n",
       "      <td>-13.0</td>\n",
       "      <td>0.0</td>\n",
       "      <td>38</td>\n",
       "      <td>0</td>\n",
       "      <td>0.0</td>\n",
       "      <td>51.0</td>\n",
       "      <td>-25.0</td>\n",
       "      <td>0.0</td>\n",
       "      <td>2.0</td>\n",
       "      <td>-1.0</td>\n",
       "      <td>0.947853</td>\n",
       "      <td>0.049626</td>\n",
       "      <td>0.002521</td>\n",
       "      <td>Wham! - Make It Big</td>\n",
       "    </tr>\n",
       "    <tr>\n",
       "      <th>27645</th>\n",
       "      <td>-2.0</td>\n",
       "      <td>-8.0</td>\n",
       "      <td>35</td>\n",
       "      <td>2</td>\n",
       "      <td>8.0</td>\n",
       "      <td>29.0</td>\n",
       "      <td>5.0</td>\n",
       "      <td>-3.0</td>\n",
       "      <td>-4.0</td>\n",
       "      <td>0.0</td>\n",
       "      <td>0.524725</td>\n",
       "      <td>0.274839</td>\n",
       "      <td>0.200436</td>\n",
       "      <td>Soundtrack - Into The Night</td>\n",
       "    </tr>\n",
       "    <tr>\n",
       "      <th>21881</th>\n",
       "      <td>0.0</td>\n",
       "      <td>-2.0</td>\n",
       "      <td>19</td>\n",
       "      <td>22</td>\n",
       "      <td>22.0</td>\n",
       "      <td>13.0</td>\n",
       "      <td>0.0</td>\n",
       "      <td>0.0</td>\n",
       "      <td>-3.0</td>\n",
       "      <td>0.0</td>\n",
       "      <td>0.198365</td>\n",
       "      <td>0.208167</td>\n",
       "      <td>0.593468</td>\n",
       "      <td>Angela Bofill - Too Tough</td>\n",
       "    </tr>\n",
       "    <tr>\n",
       "      <th>21383</th>\n",
       "      <td>0.0</td>\n",
       "      <td>0.0</td>\n",
       "      <td>22</td>\n",
       "      <td>6</td>\n",
       "      <td>34.0</td>\n",
       "      <td>1.0</td>\n",
       "      <td>3.0</td>\n",
       "      <td>0.0</td>\n",
       "      <td>4.0</td>\n",
       "      <td>1.0</td>\n",
       "      <td>0.176178</td>\n",
       "      <td>0.259446</td>\n",
       "      <td>0.564375</td>\n",
       "      <td>Skyy - Skyyjammer</td>\n",
       "    </tr>\n",
       "    <tr>\n",
       "      <th>15228</th>\n",
       "      <td>0.0</td>\n",
       "      <td>-3.0</td>\n",
       "      <td>20</td>\n",
       "      <td>3</td>\n",
       "      <td>19.0</td>\n",
       "      <td>5.0</td>\n",
       "      <td>17.0</td>\n",
       "      <td>7.0</td>\n",
       "      <td>-15.0</td>\n",
       "      <td>-1.0</td>\n",
       "      <td>0.339837</td>\n",
       "      <td>0.185707</td>\n",
       "      <td>0.474456</td>\n",
       "      <td>Rick James - Garden Of Love</td>\n",
       "    </tr>\n",
       "    <tr>\n",
       "      <th>24774</th>\n",
       "      <td>11.0</td>\n",
       "      <td>0.0</td>\n",
       "      <td>38</td>\n",
       "      <td>7</td>\n",
       "      <td>0.0</td>\n",
       "      <td>51.0</td>\n",
       "      <td>0.0</td>\n",
       "      <td>0.0</td>\n",
       "      <td>3.0</td>\n",
       "      <td>1.0</td>\n",
       "      <td>0.138790</td>\n",
       "      <td>0.222942</td>\n",
       "      <td>0.638268</td>\n",
       "      <td>Stacy Lattisaw &amp; Johnny Gill - Perfect Combination</td>\n",
       "    </tr>\n",
       "    <tr>\n",
       "      <th>21765</th>\n",
       "      <td>0.0</td>\n",
       "      <td>0.0</td>\n",
       "      <td>27</td>\n",
       "      <td>10</td>\n",
       "      <td>4.0</td>\n",
       "      <td>39.0</td>\n",
       "      <td>-2.0</td>\n",
       "      <td>-15.0</td>\n",
       "      <td>0.0</td>\n",
       "      <td>0.0</td>\n",
       "      <td>0.153448</td>\n",
       "      <td>0.175562</td>\n",
       "      <td>0.670990</td>\n",
       "      <td>Tyrone Davis - Tyrone Davis</td>\n",
       "    </tr>\n",
       "    <tr>\n",
       "      <th>26327</th>\n",
       "      <td>1.0</td>\n",
       "      <td>1.0</td>\n",
       "      <td>50</td>\n",
       "      <td>33</td>\n",
       "      <td>19.0</td>\n",
       "      <td>5.0</td>\n",
       "      <td>-5.0</td>\n",
       "      <td>2.0</td>\n",
       "      <td>0.0</td>\n",
       "      <td>1.0</td>\n",
       "      <td>0.152287</td>\n",
       "      <td>0.160475</td>\n",
       "      <td>0.687238</td>\n",
       "      <td>Chaka Khan - I Feel For You</td>\n",
       "    </tr>\n",
       "    <tr>\n",
       "      <th>2540</th>\n",
       "      <td>6.0</td>\n",
       "      <td>8.0</td>\n",
       "      <td>38</td>\n",
       "      <td>8</td>\n",
       "      <td>11.0</td>\n",
       "      <td>9.0</td>\n",
       "      <td>-12.0</td>\n",
       "      <td>0.0</td>\n",
       "      <td>11.0</td>\n",
       "      <td>1.0</td>\n",
       "      <td>0.097604</td>\n",
       "      <td>0.222731</td>\n",
       "      <td>0.679665</td>\n",
       "      <td>The Stylistics - You Are Beautiful</td>\n",
       "    </tr>\n",
       "    <tr>\n",
       "      <th>27029</th>\n",
       "      <td>-3.0</td>\n",
       "      <td>7.0</td>\n",
       "      <td>29</td>\n",
       "      <td>35</td>\n",
       "      <td>0.0</td>\n",
       "      <td>51.0</td>\n",
       "      <td>-1.0</td>\n",
       "      <td>0.0</td>\n",
       "      <td>0.0</td>\n",
       "      <td>0.0</td>\n",
       "      <td>0.351343</td>\n",
       "      <td>0.379769</td>\n",
       "      <td>0.268888</td>\n",
       "      <td>Klymaxx - Meeting In The Ladies Room</td>\n",
       "    </tr>\n",
       "    <tr>\n",
       "      <th>18905</th>\n",
       "      <td>6.0</td>\n",
       "      <td>0.0</td>\n",
       "      <td>23</td>\n",
       "      <td>9</td>\n",
       "      <td>17.0</td>\n",
       "      <td>7.0</td>\n",
       "      <td>2.0</td>\n",
       "      <td>0.0</td>\n",
       "      <td>3.0</td>\n",
       "      <td>1.0</td>\n",
       "      <td>0.114778</td>\n",
       "      <td>0.280330</td>\n",
       "      <td>0.604892</td>\n",
       "      <td>ConFunkShun - Con Funk Shun 7</td>\n",
       "    </tr>\n",
       "    <tr>\n",
       "      <th>16596</th>\n",
       "      <td>-5.0</td>\n",
       "      <td>-7.0</td>\n",
       "      <td>32</td>\n",
       "      <td>3</td>\n",
       "      <td>7.0</td>\n",
       "      <td>30.0</td>\n",
       "      <td>6.0</td>\n",
       "      <td>-2.0</td>\n",
       "      <td>0.0</td>\n",
       "      <td>-1.0</td>\n",
       "      <td>0.661905</td>\n",
       "      <td>0.273286</td>\n",
       "      <td>0.064809</td>\n",
       "      <td>One Way - Love Is...One Way</td>\n",
       "    </tr>\n",
       "    <tr>\n",
       "      <th>3522</th>\n",
       "      <td>-7.0</td>\n",
       "      <td>-7.0</td>\n",
       "      <td>37</td>\n",
       "      <td>1</td>\n",
       "      <td>6.0</td>\n",
       "      <td>22.0</td>\n",
       "      <td>-20.0</td>\n",
       "      <td>-2.0</td>\n",
       "      <td>-3.0</td>\n",
       "      <td>-1.0</td>\n",
       "      <td>0.807415</td>\n",
       "      <td>0.170765</td>\n",
       "      <td>0.021819</td>\n",
       "      <td>Phoebe Snow - Second Childhood</td>\n",
       "    </tr>\n",
       "    <tr>\n",
       "      <th>20867</th>\n",
       "      <td>3.0</td>\n",
       "      <td>-2.0</td>\n",
       "      <td>45</td>\n",
       "      <td>22</td>\n",
       "      <td>29.0</td>\n",
       "      <td>4.0</td>\n",
       "      <td>-3.0</td>\n",
       "      <td>0.0</td>\n",
       "      <td>-5.0</td>\n",
       "      <td>1.0</td>\n",
       "      <td>0.153790</td>\n",
       "      <td>0.212958</td>\n",
       "      <td>0.633252</td>\n",
       "      <td>Diana Ross - Silk Electric</td>\n",
       "    </tr>\n",
       "    <tr>\n",
       "      <th>21334</th>\n",
       "      <td>22.0</td>\n",
       "      <td>0.0</td>\n",
       "      <td>39</td>\n",
       "      <td>8</td>\n",
       "      <td>14.0</td>\n",
       "      <td>17.0</td>\n",
       "      <td>0.0</td>\n",
       "      <td>0.0</td>\n",
       "      <td>3.0</td>\n",
       "      <td>0.0</td>\n",
       "      <td>0.127724</td>\n",
       "      <td>0.244905</td>\n",
       "      <td>0.627370</td>\n",
       "      <td>ConFunkShun - To The Max</td>\n",
       "    </tr>\n",
       "    <tr>\n",
       "      <th>9627</th>\n",
       "      <td>-1.0</td>\n",
       "      <td>-1.0</td>\n",
       "      <td>10</td>\n",
       "      <td>7</td>\n",
       "      <td>0.0</td>\n",
       "      <td>51.0</td>\n",
       "      <td>4.0</td>\n",
       "      <td>6.0</td>\n",
       "      <td>8.0</td>\n",
       "      <td>0.0</td>\n",
       "      <td>0.367415</td>\n",
       "      <td>0.341430</td>\n",
       "      <td>0.291154</td>\n",
       "      <td>Betty Wright - Betty Wright Live</td>\n",
       "    </tr>\n",
       "    <tr>\n",
       "      <th>6739</th>\n",
       "      <td>0.0</td>\n",
       "      <td>0.0</td>\n",
       "      <td>2</td>\n",
       "      <td>10</td>\n",
       "      <td>31.0</td>\n",
       "      <td>1.0</td>\n",
       "      <td>2.0</td>\n",
       "      <td>0.0</td>\n",
       "      <td>0.0</td>\n",
       "      <td>1.0</td>\n",
       "      <td>0.102852</td>\n",
       "      <td>0.607765</td>\n",
       "      <td>0.289383</td>\n",
       "      <td>The Brothers Johnson - Right On Time</td>\n",
       "    </tr>\n",
       "    <tr>\n",
       "      <th>20204</th>\n",
       "      <td>-8.0</td>\n",
       "      <td>-26.0</td>\n",
       "      <td>17</td>\n",
       "      <td>1</td>\n",
       "      <td>7.0</td>\n",
       "      <td>22.0</td>\n",
       "      <td>-8.0</td>\n",
       "      <td>1.0</td>\n",
       "      <td>5.0</td>\n",
       "      <td>-1.0</td>\n",
       "      <td>0.942183</td>\n",
       "      <td>0.056535</td>\n",
       "      <td>0.001282</td>\n",
       "      <td>Bloodstone - We Go A Long Way Back</td>\n",
       "    </tr>\n",
       "    <tr>\n",
       "      <th>10576</th>\n",
       "      <td>13.0</td>\n",
       "      <td>-4.0</td>\n",
       "      <td>47</td>\n",
       "      <td>5</td>\n",
       "      <td>0.0</td>\n",
       "      <td>51.0</td>\n",
       "      <td>4.0</td>\n",
       "      <td>-1.0</td>\n",
       "      <td>2.0</td>\n",
       "      <td>1.0</td>\n",
       "      <td>0.205373</td>\n",
       "      <td>0.199274</td>\n",
       "      <td>0.595353</td>\n",
       "      <td>Staples - Unlock Your Mind</td>\n",
       "    </tr>\n",
       "    <tr>\n",
       "      <th>8444</th>\n",
       "      <td>-3.0</td>\n",
       "      <td>-4.0</td>\n",
       "      <td>11</td>\n",
       "      <td>4</td>\n",
       "      <td>16.0</td>\n",
       "      <td>5.0</td>\n",
       "      <td>6.0</td>\n",
       "      <td>8.0</td>\n",
       "      <td>18.0</td>\n",
       "      <td>-1.0</td>\n",
       "      <td>0.484470</td>\n",
       "      <td>0.441300</td>\n",
       "      <td>0.074230</td>\n",
       "      <td>Roberta Flack - Blue Lights In The Basement</td>\n",
       "    </tr>\n",
       "    <tr>\n",
       "      <th>13930</th>\n",
       "      <td>0.0</td>\n",
       "      <td>-7.0</td>\n",
       "      <td>26</td>\n",
       "      <td>3</td>\n",
       "      <td>0.0</td>\n",
       "      <td>51.0</td>\n",
       "      <td>10.0</td>\n",
       "      <td>4.0</td>\n",
       "      <td>-1.0</td>\n",
       "      <td>-1.0</td>\n",
       "      <td>0.377199</td>\n",
       "      <td>0.143461</td>\n",
       "      <td>0.479340</td>\n",
       "      <td>Webster Lewis - 8 For The 80's</td>\n",
       "    </tr>\n",
       "    <tr>\n",
       "      <th>18348</th>\n",
       "      <td>0.0</td>\n",
       "      <td>-5.0</td>\n",
       "      <td>42</td>\n",
       "      <td>2</td>\n",
       "      <td>0.0</td>\n",
       "      <td>51.0</td>\n",
       "      <td>-1.0</td>\n",
       "      <td>-1.0</td>\n",
       "      <td>-1.0</td>\n",
       "      <td>-1.0</td>\n",
       "      <td>0.291367</td>\n",
       "      <td>0.149369</td>\n",
       "      <td>0.559264</td>\n",
       "      <td>Pieces Of A Dream - Pieces Of A Dream</td>\n",
       "    </tr>\n",
       "    <tr>\n",
       "      <th>14096</th>\n",
       "      <td>-7.0</td>\n",
       "      <td>-18.0</td>\n",
       "      <td>26</td>\n",
       "      <td>1</td>\n",
       "      <td>0.0</td>\n",
       "      <td>51.0</td>\n",
       "      <td>-5.0</td>\n",
       "      <td>-9.0</td>\n",
       "      <td>-4.0</td>\n",
       "      <td>-1.0</td>\n",
       "      <td>0.923999</td>\n",
       "      <td>0.069610</td>\n",
       "      <td>0.006390</td>\n",
       "      <td>Lipps Inc. - Mouth To Mouth</td>\n",
       "    </tr>\n",
       "    <tr>\n",
       "      <th>...</th>\n",
       "      <td>...</td>\n",
       "      <td>...</td>\n",
       "      <td>...</td>\n",
       "      <td>...</td>\n",
       "      <td>...</td>\n",
       "      <td>...</td>\n",
       "      <td>...</td>\n",
       "      <td>...</td>\n",
       "      <td>...</td>\n",
       "      <td>...</td>\n",
       "      <td>...</td>\n",
       "      <td>...</td>\n",
       "      <td>...</td>\n",
       "      <td>...</td>\n",
       "    </tr>\n",
       "    <tr>\n",
       "      <th>5155</th>\n",
       "      <td>18.0</td>\n",
       "      <td>-1.0</td>\n",
       "      <td>34</td>\n",
       "      <td>24</td>\n",
       "      <td>27.0</td>\n",
       "      <td>1.0</td>\n",
       "      <td>-2.0</td>\n",
       "      <td>-6.0</td>\n",
       "      <td>-1.0</td>\n",
       "      <td>0.0</td>\n",
       "      <td>0.135097</td>\n",
       "      <td>0.228790</td>\n",
       "      <td>0.636113</td>\n",
       "      <td>Earth, Wind &amp; Fire - Spirit</td>\n",
       "    </tr>\n",
       "    <tr>\n",
       "      <th>10196</th>\n",
       "      <td>-3.0</td>\n",
       "      <td>-7.0</td>\n",
       "      <td>6</td>\n",
       "      <td>3</td>\n",
       "      <td>35.0</td>\n",
       "      <td>10.0</td>\n",
       "      <td>33.0</td>\n",
       "      <td>-1.0</td>\n",
       "      <td>-10.0</td>\n",
       "      <td>-1.0</td>\n",
       "      <td>0.633252</td>\n",
       "      <td>0.316600</td>\n",
       "      <td>0.050148</td>\n",
       "      <td>Ashford &amp; Simpson - Is It Still Good To Ya</td>\n",
       "    </tr>\n",
       "    <tr>\n",
       "      <th>23581</th>\n",
       "      <td>0.0</td>\n",
       "      <td>0.0</td>\n",
       "      <td>50</td>\n",
       "      <td>2</td>\n",
       "      <td>13.0</td>\n",
       "      <td>30.0</td>\n",
       "      <td>-19.0</td>\n",
       "      <td>0.0</td>\n",
       "      <td>2.0</td>\n",
       "      <td>-1.0</td>\n",
       "      <td>0.198918</td>\n",
       "      <td>0.192891</td>\n",
       "      <td>0.608191</td>\n",
       "      <td>Tavares - Words And Music</td>\n",
       "    </tr>\n",
       "    <tr>\n",
       "      <th>5336</th>\n",
       "      <td>-1.0</td>\n",
       "      <td>0.0</td>\n",
       "      <td>26</td>\n",
       "      <td>31</td>\n",
       "      <td>30.0</td>\n",
       "      <td>1.0</td>\n",
       "      <td>0.0</td>\n",
       "      <td>1.0</td>\n",
       "      <td>0.0</td>\n",
       "      <td>0.0</td>\n",
       "      <td>0.262010</td>\n",
       "      <td>0.268149</td>\n",
       "      <td>0.469842</td>\n",
       "      <td>KC And The Sunshine Band - Part 3</td>\n",
       "    </tr>\n",
       "    <tr>\n",
       "      <th>3054</th>\n",
       "      <td>0.0</td>\n",
       "      <td>-6.0</td>\n",
       "      <td>24</td>\n",
       "      <td>4</td>\n",
       "      <td>0.0</td>\n",
       "      <td>51.0</td>\n",
       "      <td>7.0</td>\n",
       "      <td>10.0</td>\n",
       "      <td>-26.0</td>\n",
       "      <td>1.0</td>\n",
       "      <td>0.402195</td>\n",
       "      <td>0.126857</td>\n",
       "      <td>0.470948</td>\n",
       "      <td>Tom Scott - New York Connection</td>\n",
       "    </tr>\n",
       "    <tr>\n",
       "      <th>24657</th>\n",
       "      <td>-1.0</td>\n",
       "      <td>-1.0</td>\n",
       "      <td>12</td>\n",
       "      <td>3</td>\n",
       "      <td>0.0</td>\n",
       "      <td>51.0</td>\n",
       "      <td>11.0</td>\n",
       "      <td>20.0</td>\n",
       "      <td>0.0</td>\n",
       "      <td>0.0</td>\n",
       "      <td>0.462792</td>\n",
       "      <td>0.361741</td>\n",
       "      <td>0.175467</td>\n",
       "      <td>Shannon - Let The Music Play</td>\n",
       "    </tr>\n",
       "    <tr>\n",
       "      <th>17328</th>\n",
       "      <td>0.0</td>\n",
       "      <td>2.0</td>\n",
       "      <td>4</td>\n",
       "      <td>15</td>\n",
       "      <td>26.0</td>\n",
       "      <td>9.0</td>\n",
       "      <td>0.0</td>\n",
       "      <td>0.0</td>\n",
       "      <td>0.0</td>\n",
       "      <td>1.0</td>\n",
       "      <td>0.125534</td>\n",
       "      <td>0.485595</td>\n",
       "      <td>0.388871</td>\n",
       "      <td>Teena Marie - It Must Be Magic</td>\n",
       "    </tr>\n",
       "    <tr>\n",
       "      <th>8919</th>\n",
       "      <td>0.0</td>\n",
       "      <td>-1.0</td>\n",
       "      <td>50</td>\n",
       "      <td>1</td>\n",
       "      <td>2.0</td>\n",
       "      <td>47.0</td>\n",
       "      <td>-5.0</td>\n",
       "      <td>-6.0</td>\n",
       "      <td>-4.0</td>\n",
       "      <td>-1.0</td>\n",
       "      <td>0.275140</td>\n",
       "      <td>0.159907</td>\n",
       "      <td>0.564954</td>\n",
       "      <td>Eddie Kendricks - At His Best</td>\n",
       "    </tr>\n",
       "    <tr>\n",
       "      <th>27952</th>\n",
       "      <td>0.0</td>\n",
       "      <td>0.0</td>\n",
       "      <td>41</td>\n",
       "      <td>7</td>\n",
       "      <td>27.0</td>\n",
       "      <td>11.0</td>\n",
       "      <td>6.0</td>\n",
       "      <td>-2.0</td>\n",
       "      <td>-6.0</td>\n",
       "      <td>1.0</td>\n",
       "      <td>0.146847</td>\n",
       "      <td>0.207127</td>\n",
       "      <td>0.646026</td>\n",
       "      <td>Shannon - Do You Wanna Get Away</td>\n",
       "    </tr>\n",
       "    <tr>\n",
       "      <th>23760</th>\n",
       "      <td>5.0</td>\n",
       "      <td>2.0</td>\n",
       "      <td>46</td>\n",
       "      <td>80</td>\n",
       "      <td>62.0</td>\n",
       "      <td>1.0</td>\n",
       "      <td>-10.0</td>\n",
       "      <td>-1.0</td>\n",
       "      <td>-2.0</td>\n",
       "      <td>-1.0</td>\n",
       "      <td>0.190777</td>\n",
       "      <td>0.259161</td>\n",
       "      <td>0.550062</td>\n",
       "      <td>Lionel Richie - Can't Slow Down</td>\n",
       "    </tr>\n",
       "    <tr>\n",
       "      <th>14825</th>\n",
       "      <td>0.0</td>\n",
       "      <td>-1.0</td>\n",
       "      <td>2</td>\n",
       "      <td>6</td>\n",
       "      <td>0.0</td>\n",
       "      <td>51.0</td>\n",
       "      <td>0.0</td>\n",
       "      <td>0.0</td>\n",
       "      <td>9.0</td>\n",
       "      <td>0.0</td>\n",
       "      <td>0.154279</td>\n",
       "      <td>0.543761</td>\n",
       "      <td>0.301960</td>\n",
       "      <td>The S.O.S. Band - S.o.s.</td>\n",
       "    </tr>\n",
       "    <tr>\n",
       "      <th>14900</th>\n",
       "      <td>0.0</td>\n",
       "      <td>5.0</td>\n",
       "      <td>49</td>\n",
       "      <td>5</td>\n",
       "      <td>3.0</td>\n",
       "      <td>36.0</td>\n",
       "      <td>-4.0</td>\n",
       "      <td>0.0</td>\n",
       "      <td>2.0</td>\n",
       "      <td>1.0</td>\n",
       "      <td>0.148291</td>\n",
       "      <td>0.176465</td>\n",
       "      <td>0.675244</td>\n",
       "      <td>Stanley Clarke - Rock, Pebbles And Sand</td>\n",
       "    </tr>\n",
       "    <tr>\n",
       "      <th>20092</th>\n",
       "      <td>1.0</td>\n",
       "      <td>11.0</td>\n",
       "      <td>42</td>\n",
       "      <td>19</td>\n",
       "      <td>2.0</td>\n",
       "      <td>48.0</td>\n",
       "      <td>0.0</td>\n",
       "      <td>-2.0</td>\n",
       "      <td>0.0</td>\n",
       "      <td>1.0</td>\n",
       "      <td>0.104052</td>\n",
       "      <td>0.179799</td>\n",
       "      <td>0.716149</td>\n",
       "      <td>Roberta Flack - I'm The One</td>\n",
       "    </tr>\n",
       "    <tr>\n",
       "      <th>2802</th>\n",
       "      <td>11.0</td>\n",
       "      <td>0.0</td>\n",
       "      <td>20</td>\n",
       "      <td>28</td>\n",
       "      <td>28.0</td>\n",
       "      <td>2.0</td>\n",
       "      <td>-3.0</td>\n",
       "      <td>0.0</td>\n",
       "      <td>0.0</td>\n",
       "      <td>1.0</td>\n",
       "      <td>0.109449</td>\n",
       "      <td>0.296141</td>\n",
       "      <td>0.594410</td>\n",
       "      <td>Rufus And Chaka Khan - Rufus Featuring Chaka Khan</td>\n",
       "    </tr>\n",
       "    <tr>\n",
       "      <th>5760</th>\n",
       "      <td>-4.0</td>\n",
       "      <td>-4.0</td>\n",
       "      <td>11</td>\n",
       "      <td>4</td>\n",
       "      <td>16.0</td>\n",
       "      <td>10.0</td>\n",
       "      <td>5.0</td>\n",
       "      <td>6.0</td>\n",
       "      <td>16.0</td>\n",
       "      <td>0.0</td>\n",
       "      <td>0.496147</td>\n",
       "      <td>0.458305</td>\n",
       "      <td>0.045548</td>\n",
       "      <td>Roy Ayers Ubiquity - Vibrations</td>\n",
       "    </tr>\n",
       "    <tr>\n",
       "      <th>23658</th>\n",
       "      <td>0.0</td>\n",
       "      <td>6.0</td>\n",
       "      <td>27</td>\n",
       "      <td>32</td>\n",
       "      <td>45.0</td>\n",
       "      <td>3.0</td>\n",
       "      <td>0.0</td>\n",
       "      <td>-6.0</td>\n",
       "      <td>0.0</td>\n",
       "      <td>1.0</td>\n",
       "      <td>0.136137</td>\n",
       "      <td>0.209502</td>\n",
       "      <td>0.654361</td>\n",
       "      <td>Debarge - In A Special Way</td>\n",
       "    </tr>\n",
       "    <tr>\n",
       "      <th>79</th>\n",
       "      <td>13.0</td>\n",
       "      <td>10.0</td>\n",
       "      <td>31</td>\n",
       "      <td>28</td>\n",
       "      <td>0.0</td>\n",
       "      <td>51.0</td>\n",
       "      <td>0.0</td>\n",
       "      <td>5.0</td>\n",
       "      <td>10.0</td>\n",
       "      <td>1.0</td>\n",
       "      <td>0.131747</td>\n",
       "      <td>0.163436</td>\n",
       "      <td>0.704817</td>\n",
       "      <td>Stevie Wonder - Fullfillingness First Finale</td>\n",
       "    </tr>\n",
       "    <tr>\n",
       "      <th>12363</th>\n",
       "      <td>7.0</td>\n",
       "      <td>0.0</td>\n",
       "      <td>18</td>\n",
       "      <td>19</td>\n",
       "      <td>12.0</td>\n",
       "      <td>15.0</td>\n",
       "      <td>0.0</td>\n",
       "      <td>-1.0</td>\n",
       "      <td>0.0</td>\n",
       "      <td>1.0</td>\n",
       "      <td>0.102195</td>\n",
       "      <td>0.286616</td>\n",
       "      <td>0.611188</td>\n",
       "      <td>Dionne Warwick - Dionne</td>\n",
       "    </tr>\n",
       "    <tr>\n",
       "      <th>3679</th>\n",
       "      <td>-10.0</td>\n",
       "      <td>-2.0</td>\n",
       "      <td>34</td>\n",
       "      <td>2</td>\n",
       "      <td>0.0</td>\n",
       "      <td>51.0</td>\n",
       "      <td>2.0</td>\n",
       "      <td>0.0</td>\n",
       "      <td>-6.0</td>\n",
       "      <td>-1.0</td>\n",
       "      <td>0.806203</td>\n",
       "      <td>0.189612</td>\n",
       "      <td>0.004185</td>\n",
       "      <td>Charles Earland - Odyssey</td>\n",
       "    </tr>\n",
       "    <tr>\n",
       "      <th>9050</th>\n",
       "      <td>-11.0</td>\n",
       "      <td>-13.0</td>\n",
       "      <td>27</td>\n",
       "      <td>1</td>\n",
       "      <td>0.0</td>\n",
       "      <td>51.0</td>\n",
       "      <td>-8.0</td>\n",
       "      <td>-2.0</td>\n",
       "      <td>-2.0</td>\n",
       "      <td>-1.0</td>\n",
       "      <td>0.949393</td>\n",
       "      <td>0.049058</td>\n",
       "      <td>0.001548</td>\n",
       "      <td>Johnny Mathis - You Light Up My Life</td>\n",
       "    </tr>\n",
       "    <tr>\n",
       "      <th>22087</th>\n",
       "      <td>6.0</td>\n",
       "      <td>0.0</td>\n",
       "      <td>39</td>\n",
       "      <td>17</td>\n",
       "      <td>0.0</td>\n",
       "      <td>51.0</td>\n",
       "      <td>1.0</td>\n",
       "      <td>4.0</td>\n",
       "      <td>1.0</td>\n",
       "      <td>0.0</td>\n",
       "      <td>0.171451</td>\n",
       "      <td>0.175769</td>\n",
       "      <td>0.652780</td>\n",
       "      <td>Steve Arrington - Steve Arrington's Hall Of Fame: I</td>\n",
       "    </tr>\n",
       "    <tr>\n",
       "      <th>18320</th>\n",
       "      <td>0.0</td>\n",
       "      <td>2.0</td>\n",
       "      <td>7</td>\n",
       "      <td>24</td>\n",
       "      <td>30.0</td>\n",
       "      <td>2.0</td>\n",
       "      <td>0.0</td>\n",
       "      <td>-1.0</td>\n",
       "      <td>0.0</td>\n",
       "      <td>1.0</td>\n",
       "      <td>0.140490</td>\n",
       "      <td>0.422996</td>\n",
       "      <td>0.436514</td>\n",
       "      <td>Kool &amp; The Gang - Something Special</td>\n",
       "    </tr>\n",
       "    <tr>\n",
       "      <th>4468</th>\n",
       "      <td>5.0</td>\n",
       "      <td>-1.0</td>\n",
       "      <td>43</td>\n",
       "      <td>30</td>\n",
       "      <td>27.0</td>\n",
       "      <td>7.0</td>\n",
       "      <td>0.0</td>\n",
       "      <td>-18.0</td>\n",
       "      <td>-2.0</td>\n",
       "      <td>1.0</td>\n",
       "      <td>0.149022</td>\n",
       "      <td>0.164656</td>\n",
       "      <td>0.686323</td>\n",
       "      <td>Commodores - Hot On The Tracks</td>\n",
       "    </tr>\n",
       "    <tr>\n",
       "      <th>25146</th>\n",
       "      <td>3.0</td>\n",
       "      <td>5.0</td>\n",
       "      <td>9</td>\n",
       "      <td>8</td>\n",
       "      <td>18.0</td>\n",
       "      <td>9.0</td>\n",
       "      <td>1.0</td>\n",
       "      <td>0.0</td>\n",
       "      <td>1.0</td>\n",
       "      <td>0.0</td>\n",
       "      <td>0.079322</td>\n",
       "      <td>0.384397</td>\n",
       "      <td>0.536281</td>\n",
       "      <td>Jermaine Jackson - Jermaine Jackson</td>\n",
       "    </tr>\n",
       "    <tr>\n",
       "      <th>26684</th>\n",
       "      <td>-2.0</td>\n",
       "      <td>-7.0</td>\n",
       "      <td>21</td>\n",
       "      <td>7</td>\n",
       "      <td>15.0</td>\n",
       "      <td>19.0</td>\n",
       "      <td>8.0</td>\n",
       "      <td>0.0</td>\n",
       "      <td>3.0</td>\n",
       "      <td>-1.0</td>\n",
       "      <td>0.506965</td>\n",
       "      <td>0.318301</td>\n",
       "      <td>0.174733</td>\n",
       "      <td>Philip Bailey - Chinese Wall</td>\n",
       "    </tr>\n",
       "    <tr>\n",
       "      <th>22550</th>\n",
       "      <td>2.0</td>\n",
       "      <td>1.0</td>\n",
       "      <td>6</td>\n",
       "      <td>20</td>\n",
       "      <td>17.0</td>\n",
       "      <td>22.0</td>\n",
       "      <td>0.0</td>\n",
       "      <td>0.0</td>\n",
       "      <td>0.0</td>\n",
       "      <td>-1.0</td>\n",
       "      <td>0.084686</td>\n",
       "      <td>0.425079</td>\n",
       "      <td>0.490236</td>\n",
       "      <td>Gladys Knight And The Pips - Visions</td>\n",
       "    </tr>\n",
       "    <tr>\n",
       "      <th>27197</th>\n",
       "      <td>1.0</td>\n",
       "      <td>-1.0</td>\n",
       "      <td>22</td>\n",
       "      <td>20</td>\n",
       "      <td>6.0</td>\n",
       "      <td>26.0</td>\n",
       "      <td>-4.0</td>\n",
       "      <td>-1.0</td>\n",
       "      <td>-2.0</td>\n",
       "      <td>0.0</td>\n",
       "      <td>0.116557</td>\n",
       "      <td>0.205372</td>\n",
       "      <td>0.678071</td>\n",
       "      <td>Commodores - Nightshift</td>\n",
       "    </tr>\n",
       "    <tr>\n",
       "      <th>15458</th>\n",
       "      <td>0.0</td>\n",
       "      <td>5.0</td>\n",
       "      <td>29</td>\n",
       "      <td>24</td>\n",
       "      <td>0.0</td>\n",
       "      <td>51.0</td>\n",
       "      <td>0.0</td>\n",
       "      <td>1.0</td>\n",
       "      <td>0.0</td>\n",
       "      <td>1.0</td>\n",
       "      <td>0.168879</td>\n",
       "      <td>0.175709</td>\n",
       "      <td>0.655412</td>\n",
       "      <td>Zapp - Zapp</td>\n",
       "    </tr>\n",
       "    <tr>\n",
       "      <th>15039</th>\n",
       "      <td>3.0</td>\n",
       "      <td>1.0</td>\n",
       "      <td>21</td>\n",
       "      <td>14</td>\n",
       "      <td>0.0</td>\n",
       "      <td>51.0</td>\n",
       "      <td>-1.0</td>\n",
       "      <td>-1.0</td>\n",
       "      <td>0.0</td>\n",
       "      <td>1.0</td>\n",
       "      <td>0.085190</td>\n",
       "      <td>0.201246</td>\n",
       "      <td>0.713564</td>\n",
       "      <td>Dynasty - Adventures In The Land Of Music</td>\n",
       "    </tr>\n",
       "    <tr>\n",
       "      <th>23133</th>\n",
       "      <td>0.0</td>\n",
       "      <td>12.0</td>\n",
       "      <td>36</td>\n",
       "      <td>46</td>\n",
       "      <td>42.0</td>\n",
       "      <td>3.0</td>\n",
       "      <td>-1.0</td>\n",
       "      <td>1.0</td>\n",
       "      <td>-6.0</td>\n",
       "      <td>0.0</td>\n",
       "      <td>0.199005</td>\n",
       "      <td>0.191339</td>\n",
       "      <td>0.609657</td>\n",
       "      <td>Jeffrey Osborne - Stay With Me Tonight</td>\n",
       "    </tr>\n",
       "  </tbody>\n",
       "</table>\n",
       "<p>7169 rows × 14 columns</p>\n",
       "</div>"
      ],
      "text/plain": [
       "       delta_1  delta_2  position  weeks_on_chart  weeks_lag  peak_lag  \\\n",
       "15540 -5.0     -6.0      22        3               24.0       2.0        \n",
       "9326   1.0      10.0     46        18              0.0        51.0       \n",
       "17315 -6.0     -8.0      11        2               26.0       9.0        \n",
       "3914   2.0     -3.0      19        6               12.0       27.0       \n",
       "25997 -4.0      0.0      35        3               1.0        50.0       \n",
       "20754  7.0      4.0      45        23              40.0       1.0        \n",
       "7110  -4.0     -10.0     4         2               30.0       5.0        \n",
       "27143 -13.0     0.0      38        0               0.0        51.0       \n",
       "27645 -2.0     -8.0      35        2               8.0        29.0       \n",
       "21881  0.0     -2.0      19        22              22.0       13.0       \n",
       "21383  0.0      0.0      22        6               34.0       1.0        \n",
       "15228  0.0     -3.0      20        3               19.0       5.0        \n",
       "24774  11.0     0.0      38        7               0.0        51.0       \n",
       "21765  0.0      0.0      27        10              4.0        39.0       \n",
       "26327  1.0      1.0      50        33              19.0       5.0        \n",
       "2540   6.0      8.0      38        8               11.0       9.0        \n",
       "27029 -3.0      7.0      29        35              0.0        51.0       \n",
       "18905  6.0      0.0      23        9               17.0       7.0        \n",
       "16596 -5.0     -7.0      32        3               7.0        30.0       \n",
       "3522  -7.0     -7.0      37        1               6.0        22.0       \n",
       "20867  3.0     -2.0      45        22              29.0       4.0        \n",
       "21334  22.0     0.0      39        8               14.0       17.0       \n",
       "9627  -1.0     -1.0      10        7               0.0        51.0       \n",
       "6739   0.0      0.0      2         10              31.0       1.0        \n",
       "20204 -8.0     -26.0     17        1               7.0        22.0       \n",
       "10576  13.0    -4.0      47        5               0.0        51.0       \n",
       "8444  -3.0     -4.0      11        4               16.0       5.0        \n",
       "13930  0.0     -7.0      26        3               0.0        51.0       \n",
       "18348  0.0     -5.0      42        2               0.0        51.0       \n",
       "14096 -7.0     -18.0     26        1               0.0        51.0       \n",
       "...    ...       ...     ..       ..               ...         ...       \n",
       "5155   18.0    -1.0      34        24              27.0       1.0        \n",
       "10196 -3.0     -7.0      6         3               35.0       10.0       \n",
       "23581  0.0      0.0      50        2               13.0       30.0       \n",
       "5336  -1.0      0.0      26        31              30.0       1.0        \n",
       "3054   0.0     -6.0      24        4               0.0        51.0       \n",
       "24657 -1.0     -1.0      12        3               0.0        51.0       \n",
       "17328  0.0      2.0      4         15              26.0       9.0        \n",
       "8919   0.0     -1.0      50        1               2.0        47.0       \n",
       "27952  0.0      0.0      41        7               27.0       11.0       \n",
       "23760  5.0      2.0      46        80              62.0       1.0        \n",
       "14825  0.0     -1.0      2         6               0.0        51.0       \n",
       "14900  0.0      5.0      49        5               3.0        36.0       \n",
       "20092  1.0      11.0     42        19              2.0        48.0       \n",
       "2802   11.0     0.0      20        28              28.0       2.0        \n",
       "5760  -4.0     -4.0      11        4               16.0       10.0       \n",
       "23658  0.0      6.0      27        32              45.0       3.0        \n",
       "79     13.0     10.0     31        28              0.0        51.0       \n",
       "12363  7.0      0.0      18        19              12.0       15.0       \n",
       "3679  -10.0    -2.0      34        2               0.0        51.0       \n",
       "9050  -11.0    -13.0     27        1               0.0        51.0       \n",
       "22087  6.0      0.0      39        17              0.0        51.0       \n",
       "18320  0.0      2.0      7         24              30.0       2.0        \n",
       "4468   5.0     -1.0      43        30              27.0       7.0        \n",
       "25146  3.0      5.0      9         8               18.0       9.0        \n",
       "26684 -2.0     -7.0      21        7               15.0       19.0       \n",
       "22550  2.0      1.0      6         20              17.0       22.0       \n",
       "27197  1.0     -1.0      22        20              6.0        26.0       \n",
       "15458  0.0      5.0      29        24              0.0        51.0       \n",
       "15039  3.0      1.0      21        14              0.0        51.0       \n",
       "23133  0.0      12.0     36        46              42.0       3.0        \n",
       "\n",
       "       delta_3  delta_4  delta_5  move_2n  down_proba  stay_proba  up_proba  \\\n",
       "15540  8.0      7.0      0.0     -1.0      0.735887    0.230475    0.033638   \n",
       "9326  -8.0     -9.0      0.0      1.0      0.139791    0.134693    0.725517   \n",
       "17315  25.0     0.0     -21.0    -1.0      0.824461    0.163982    0.011556   \n",
       "3914   1.0      6.0      10.0     1.0      0.174360    0.223329    0.602311   \n",
       "25997  4.0     -3.0      0.0      0.0      0.508422    0.357051    0.134527   \n",
       "20754 -1.0      0.0     -2.0      1.0      0.124980    0.229596    0.645424   \n",
       "7110   16.0     0.0     -3.0     -1.0      0.630985    0.349897    0.019117   \n",
       "27143 -25.0     0.0      2.0     -1.0      0.947853    0.049626    0.002521   \n",
       "27645  5.0     -3.0     -4.0      0.0      0.524725    0.274839    0.200436   \n",
       "21881  0.0      0.0     -3.0      0.0      0.198365    0.208167    0.593468   \n",
       "21383  3.0      0.0      4.0      1.0      0.176178    0.259446    0.564375   \n",
       "15228  17.0     7.0     -15.0    -1.0      0.339837    0.185707    0.474456   \n",
       "24774  0.0      0.0      3.0      1.0      0.138790    0.222942    0.638268   \n",
       "21765 -2.0     -15.0     0.0      0.0      0.153448    0.175562    0.670990   \n",
       "26327 -5.0      2.0      0.0      1.0      0.152287    0.160475    0.687238   \n",
       "2540  -12.0     0.0      11.0     1.0      0.097604    0.222731    0.679665   \n",
       "27029 -1.0      0.0      0.0      0.0      0.351343    0.379769    0.268888   \n",
       "18905  2.0      0.0      3.0      1.0      0.114778    0.280330    0.604892   \n",
       "16596  6.0     -2.0      0.0     -1.0      0.661905    0.273286    0.064809   \n",
       "3522  -20.0    -2.0     -3.0     -1.0      0.807415    0.170765    0.021819   \n",
       "20867 -3.0      0.0     -5.0      1.0      0.153790    0.212958    0.633252   \n",
       "21334  0.0      0.0      3.0      0.0      0.127724    0.244905    0.627370   \n",
       "9627   4.0      6.0      8.0      0.0      0.367415    0.341430    0.291154   \n",
       "6739   2.0      0.0      0.0      1.0      0.102852    0.607765    0.289383   \n",
       "20204 -8.0      1.0      5.0     -1.0      0.942183    0.056535    0.001282   \n",
       "10576  4.0     -1.0      2.0      1.0      0.205373    0.199274    0.595353   \n",
       "8444   6.0      8.0      18.0    -1.0      0.484470    0.441300    0.074230   \n",
       "13930  10.0     4.0     -1.0     -1.0      0.377199    0.143461    0.479340   \n",
       "18348 -1.0     -1.0     -1.0     -1.0      0.291367    0.149369    0.559264   \n",
       "14096 -5.0     -9.0     -4.0     -1.0      0.923999    0.069610    0.006390   \n",
       "...    ...      ...      ...      ...           ...         ...         ...   \n",
       "5155  -2.0     -6.0     -1.0      0.0      0.135097    0.228790    0.636113   \n",
       "10196  33.0    -1.0     -10.0    -1.0      0.633252    0.316600    0.050148   \n",
       "23581 -19.0     0.0      2.0     -1.0      0.198918    0.192891    0.608191   \n",
       "5336   0.0      1.0      0.0      0.0      0.262010    0.268149    0.469842   \n",
       "3054   7.0      10.0    -26.0     1.0      0.402195    0.126857    0.470948   \n",
       "24657  11.0     20.0     0.0      0.0      0.462792    0.361741    0.175467   \n",
       "17328  0.0      0.0      0.0      1.0      0.125534    0.485595    0.388871   \n",
       "8919  -5.0     -6.0     -4.0     -1.0      0.275140    0.159907    0.564954   \n",
       "27952  6.0     -2.0     -6.0      1.0      0.146847    0.207127    0.646026   \n",
       "23760 -10.0    -1.0     -2.0     -1.0      0.190777    0.259161    0.550062   \n",
       "14825  0.0      0.0      9.0      0.0      0.154279    0.543761    0.301960   \n",
       "14900 -4.0      0.0      2.0      1.0      0.148291    0.176465    0.675244   \n",
       "20092  0.0     -2.0      0.0      1.0      0.104052    0.179799    0.716149   \n",
       "2802  -3.0      0.0      0.0      1.0      0.109449    0.296141    0.594410   \n",
       "5760   5.0      6.0      16.0     0.0      0.496147    0.458305    0.045548   \n",
       "23658  0.0     -6.0      0.0      1.0      0.136137    0.209502    0.654361   \n",
       "79     0.0      5.0      10.0     1.0      0.131747    0.163436    0.704817   \n",
       "12363  0.0     -1.0      0.0      1.0      0.102195    0.286616    0.611188   \n",
       "3679   2.0      0.0     -6.0     -1.0      0.806203    0.189612    0.004185   \n",
       "9050  -8.0     -2.0     -2.0     -1.0      0.949393    0.049058    0.001548   \n",
       "22087  1.0      4.0      1.0      0.0      0.171451    0.175769    0.652780   \n",
       "18320  0.0     -1.0      0.0      1.0      0.140490    0.422996    0.436514   \n",
       "4468   0.0     -18.0    -2.0      1.0      0.149022    0.164656    0.686323   \n",
       "25146  1.0      0.0      1.0      0.0      0.079322    0.384397    0.536281   \n",
       "26684  8.0      0.0      3.0     -1.0      0.506965    0.318301    0.174733   \n",
       "22550  0.0      0.0      0.0     -1.0      0.084686    0.425079    0.490236   \n",
       "27197 -4.0     -1.0     -2.0      0.0      0.116557    0.205372    0.678071   \n",
       "15458  0.0      1.0      0.0      1.0      0.168879    0.175709    0.655412   \n",
       "15039 -1.0     -1.0      0.0      1.0      0.085190    0.201246    0.713564   \n",
       "23133 -1.0      1.0     -6.0      0.0      0.199005    0.191339    0.609657   \n",
       "\n",
       "                                                       key  \n",
       "15540  Ray, Goodman & Brown - Ray, Goodman And Brown II     \n",
       "9326   Linda Clifford - If My Friends Could See Me Now      \n",
       "17315  Teena Marie - It Must Be Magic                       \n",
       "3914   Millie Jackson - Free And In Love                    \n",
       "25997  Bobby Bland - You've Got Me Loving You               \n",
       "20754  Kool & The Gang - As One                             \n",
       "7110   The Emotions - Rejoice                               \n",
       "27143  Wham! - Make It Big                                  \n",
       "27645  Soundtrack - Into The Night                          \n",
       "21881  Angela Bofill - Too Tough                            \n",
       "21383  Skyy - Skyyjammer                                    \n",
       "15228  Rick James - Garden Of Love                          \n",
       "24774  Stacy Lattisaw & Johnny Gill - Perfect Combination   \n",
       "21765  Tyrone Davis - Tyrone Davis                          \n",
       "26327  Chaka Khan - I Feel For You                          \n",
       "2540   The Stylistics - You Are Beautiful                   \n",
       "27029  Klymaxx - Meeting In The Ladies Room                 \n",
       "18905  ConFunkShun - Con Funk Shun 7                        \n",
       "16596  One Way - Love Is...One Way                          \n",
       "3522   Phoebe Snow - Second Childhood                       \n",
       "20867  Diana Ross - Silk Electric                           \n",
       "21334  ConFunkShun - To The Max                             \n",
       "9627   Betty Wright - Betty Wright Live                     \n",
       "6739   The Brothers Johnson - Right On Time                 \n",
       "20204  Bloodstone - We Go A Long Way Back                   \n",
       "10576  Staples - Unlock Your Mind                           \n",
       "8444   Roberta Flack - Blue Lights In The Basement          \n",
       "13930  Webster Lewis - 8 For The 80's                       \n",
       "18348  Pieces Of A Dream - Pieces Of A Dream                \n",
       "14096  Lipps Inc. - Mouth To Mouth                          \n",
       "...                            ...                          \n",
       "5155   Earth, Wind & Fire - Spirit                          \n",
       "10196  Ashford & Simpson - Is It Still Good To Ya           \n",
       "23581  Tavares - Words And Music                            \n",
       "5336   KC And The Sunshine Band - Part 3                    \n",
       "3054   Tom Scott - New York Connection                      \n",
       "24657  Shannon - Let The Music Play                         \n",
       "17328  Teena Marie - It Must Be Magic                       \n",
       "8919   Eddie Kendricks - At His Best                        \n",
       "27952  Shannon - Do You Wanna Get Away                      \n",
       "23760  Lionel Richie - Can't Slow Down                      \n",
       "14825  The S.O.S. Band - S.o.s.                             \n",
       "14900  Stanley Clarke - Rock, Pebbles And Sand              \n",
       "20092  Roberta Flack - I'm The One                          \n",
       "2802   Rufus And Chaka Khan - Rufus Featuring Chaka Khan    \n",
       "5760   Roy Ayers Ubiquity - Vibrations                      \n",
       "23658  Debarge - In A Special Way                           \n",
       "79     Stevie Wonder - Fullfillingness First Finale         \n",
       "12363  Dionne Warwick - Dionne                              \n",
       "3679   Charles Earland - Odyssey                            \n",
       "9050   Johnny Mathis - You Light Up My Life                 \n",
       "22087  Steve Arrington - Steve Arrington's Hall Of Fame: I  \n",
       "18320  Kool & The Gang - Something Special                  \n",
       "4468   Commodores - Hot On The Tracks                       \n",
       "25146  Jermaine Jackson - Jermaine Jackson                  \n",
       "26684  Philip Bailey - Chinese Wall                         \n",
       "22550  Gladys Knight And The Pips - Visions                 \n",
       "27197  Commodores - Nightshift                              \n",
       "15458  Zapp - Zapp                                          \n",
       "15039  Dynasty - Adventures In The Land Of Music            \n",
       "23133  Jeffrey Osborne - Stay With Me Tonight               \n",
       "\n",
       "[7169 rows x 14 columns]"
      ]
     },
     "execution_count": 186,
     "metadata": {},
     "output_type": "execute_result"
    }
   ],
   "source": [
    "xg_outs"
   ]
  },
  {
   "cell_type": "code",
   "execution_count": 187,
   "metadata": {
    "collapsed": true
   },
   "outputs": [],
   "source": [
    "key = 'Klymaxx - Meeting In The Ladies Room'"
   ]
  },
  {
   "cell_type": "code",
   "execution_count": 191,
   "metadata": {},
   "outputs": [
    {
     "data": {
      "text/plain": [
       "2020"
      ]
     },
     "execution_count": 191,
     "metadata": {},
     "output_type": "execute_result"
    }
   ],
   "source": [
    "df.key.nunique()"
   ]
  },
  {
   "cell_type": "code",
   "execution_count": null,
   "metadata": {
    "collapsed": true
   },
   "outputs": [],
   "source": []
  }
 ],
 "metadata": {
  "kernelspec": {
   "display_name": "Python [conda env:anaconda3]",
   "language": "python",
   "name": "conda-env-anaconda3-py"
  },
  "language_info": {
   "codemirror_mode": {
    "name": "ipython",
    "version": 3
   },
   "file_extension": ".py",
   "mimetype": "text/x-python",
   "name": "python",
   "nbconvert_exporter": "python",
   "pygments_lexer": "ipython3",
   "version": "3.6.3"
  }
 },
 "nbformat": 4,
 "nbformat_minor": 2
}
